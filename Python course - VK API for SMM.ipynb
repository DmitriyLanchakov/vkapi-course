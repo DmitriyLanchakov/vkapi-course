{
 "cells": [
  {
   "cell_type": "markdown",
   "metadata": {},
   "source": [
    "**Автор:** Сергей Шмаков\n",
    "\n",
    "**Обновление этого документа** и не только публикуется на канале в Телеграм - https://telegram.me/smm_python\n",
    "\n",
    "Другие мои площадки:\n",
    "* ВКонтакте - https://vk.com/smmblog\n",
    "* Youtube - https://youtube.com/smmblog\n",
    "* Блог - http://freesmm.ru\n"
   ]
  },
  {
   "cell_type": "markdown",
   "metadata": {},
   "source": [
    "# Урок 1: Установка Python"
   ]
  },
  {
   "cell_type": "markdown",
   "metadata": {},
   "source": [
    "**запустите код ниже**"
   ]
  },
  {
   "cell_type": "code",
   "execution_count": 37,
   "metadata": {
    "collapsed": false
   },
   "outputs": [
    {
     "data": {
      "text/html": [
       "\n",
       "        <iframe\n",
       "            width=\"400\"\n",
       "            height=\"300\"\n",
       "            src=\"https://www.youtube.com/embed/ijvHJRKg8WU\"\n",
       "            frameborder=\"0\"\n",
       "            allowfullscreen\n",
       "        ></iframe>\n",
       "        "
      ],
      "text/plain": [
       "<IPython.lib.display.YouTubeVideo at 0xd374e2cb00>"
      ]
     },
     "execution_count": 37,
     "metadata": {},
     "output_type": "execute_result"
    }
   ],
   "source": [
    "from IPython.display import YouTubeVideo\n",
    "YouTubeVideo(\"ijvHJRKg8WU\")"
   ]
  },
  {
   "cell_type": "markdown",
   "metadata": {},
   "source": [
    "**Описание в блоге** - http://freesmm.ru/smm-help/api/vk-1/\n",
    "Как установить Python\n",
    "\n",
    "## Вариант 1 — не самый подходящий для нас\n",
    "\n",
    "Скачать с официального сайта — https://www.python.org/\n",
    "\n",
    "## Вариант 2 — тот что будем использовать\n",
    "\n",
    "Установить https://www.continuum.io/downloads\n",
    "\n",
    "Установка:\n",
    "\n",
    "1. Скачать версию для Python 3.5\n",
    "2. Установить\n",
    "3. После установки в панели программ у вас должен появиться Jupiter NoteBook, если нет, то нужно будет через Launcher установить\n",
    "4. Запустить Jupiter Notebook\n",
    "5. Создать новый Python-файл\n",
    "6. Написать код (на этом пока остановимся)\n",
    "\n",
    "\n",
    "## Вариант 3 — сложнее, но будет тоже востребован\n",
    "\n",
    "Установить PyCharm Community  — https://www.jetbrains.com/pycharm/download/#section=windows"
   ]
  },
  {
   "cell_type": "code",
   "execution_count": 2,
   "metadata": {
    "collapsed": false
   },
   "outputs": [
    {
     "name": "stdout",
     "output_type": "stream",
     "text": [
      "Sergey Shmakov\n"
     ]
    }
   ],
   "source": [
    "#Это поле для кода. # решёткой обозначают комментарии. Выберите это поле и нажмите на плей\n",
    "\n",
    "first_name = \"Sergey\" #переменная, которой присвоено значение с типом данных \"Строка\"\n",
    "last_name = \"Shmakov\"\n",
    "print(first_name, last_name) #функция вывода на экран \n"
   ]
  },
  {
   "cell_type": "markdown",
   "metadata": {},
   "source": [
    "# Урок 2: Как отправить запрос к ВКонтакте и получить ответ"
   ]
  },
  {
   "cell_type": "code",
   "execution_count": 38,
   "metadata": {
    "collapsed": false
   },
   "outputs": [
    {
     "data": {
      "text/html": [
       "\n",
       "        <iframe\n",
       "            width=\"400\"\n",
       "            height=\"300\"\n",
       "            src=\"https://www.youtube.com/embed/jiRmCOFGD2A\"\n",
       "            frameborder=\"0\"\n",
       "            allowfullscreen\n",
       "        ></iframe>\n",
       "        "
      ],
      "text/plain": [
       "<IPython.lib.display.YouTubeVideo at 0xd374e2c588>"
      ]
     },
     "execution_count": 38,
     "metadata": {},
     "output_type": "execute_result"
    }
   ],
   "source": [
    "from IPython.display import YouTubeVideo\n",
    "YouTubeVideo(\"jiRmCOFGD2A\")"
   ]
  },
  {
   "cell_type": "markdown",
   "metadata": {},
   "source": [
    "Описание в блоге http://freesmm.ru/smm-help/api/vk-2/\n",
    "\n",
    "В примере ниже, мы импортируем пакет **requests**, который уже установлен в дистрибутив Anaconda (https://www.continuum.io/downloads). Requests (http://docs.python-requests.org/en/master/) наиболее часто используемый пакет в Python. \n",
    "\n",
    "Перед тем как запустить код ниже, ознакомьтесь с этими материлами:\n",
    "\n",
    "* Синтаксис — http://pythonworld.ru/osnovy/sintaksis-yazyka-python.html\n",
    "* Переменные и типы данных — https://rtfm.co.ua/python-izuchenie-s-nulya-sintaksis/\n",
    "* Типы данных — http://pythonworld.ru/tipy-dannyx-v-python\n",
    "* Списки — http://pythonworld.ru/tipy-dannyx-v-python/spiski-list-funkcii-i-metody-spiskov.html\n",
    "* Словари — http://pythonworld.ru/tipy-dannyx-v-python/slovari-dict-funkcii-i-metody-slovarej.html\n",
    "* Модули - http://pythonworld.ru/osnovy/rabota-s-modulyami-sozdanie-podklyuchenie-instrukciyami-import-i-from.html\n",
    "\n",
    "### Задача: получить основную информацию о пользователе по ID\n",
    "Для решения этой задачи нам потребуется использоваться метод **https://vk.com/dev/users.get**. Он возвращает расширенную информацию о пользователях. \n",
    "\n",
    "* Если передать только id, то ВК вернёт только основную информацию\n",
    "* Если будет заполнено поле fields, то указывая нужно поле, будет возвращена дополнительная информация\n",
    "\n",
    "К основной инфорамции пользователя ВКонтакте относится:\n",
    "* ID пользователя\n",
    "* Имя\n",
    "* Фамилия\n",
    "\n",
    "**Запустите код ниже**"
   ]
  },
  {
   "cell_type": "code",
   "execution_count": 39,
   "metadata": {
    "collapsed": false
   },
   "outputs": [
    {
     "name": "stdout",
     "output_type": "stream",
     "text": [
      "{'response': [{'uid': 928041, 'last_name': 'Шмаков', 'first_name': 'Сергей'}]}\n"
     ]
    }
   ],
   "source": [
    "import requests\n",
    "r = requests.get('https://api.vk.com/method/users.get',params={'user_ids': 928041})\n",
    "print(r.json())"
   ]
  },
  {
   "cell_type": "markdown",
   "metadata": {},
   "source": [
    "**Усложним задачу**. \n",
    "> Давайте предположим, что нам нужно получить **количество подписчиков** указанного пользователя\n",
    "\n",
    "Чтобы получить расширенную информацию нужно добавить к параметрам **fields** и список полей, которые нужно получить. Полный список полей:\n",
    "<pre>photo_id, verified, sex, bdate, city, country, home_town, has_photo, photo_50, photo_100, photo_200_orig, photo_200, photo_400_orig, photo_max, photo_max_orig, online, lists, domain, has_mobile, contacts, site, education, universities, schools, status, last_seen, followers_count, common_count, occupation, nickname, relatives, relation, personal, connections, exports, wall_comments, activities, interests, music, movies, tv, books, games, about, quotes, can_post, can_see_all_posts, can_see_audio, can_write_private_message, can_send_friend_request, is_favorite, is_hidden_from_feed, timezone, screen_name, maiden_name, crop_photo, is_friend, friend_status, career, military, blacklisted, blacklisted_by_me</pre>\n",
    "\n",
    "Расшифровка полей для объекта user - https://vk.com/dev/fields\n",
    "\n",
    "Количество подписчиков это = **followers_count**\n",
    "\n",
    "**запустите код ниже**"
   ]
  },
  {
   "cell_type": "code",
   "execution_count": 5,
   "metadata": {
    "collapsed": false
   },
   "outputs": [
    {
     "name": "stdout",
     "output_type": "stream",
     "text": [
      "{'response': [{'last_name': 'Шмаков', 'followers_count': 3376, 'first_name': 'Сергей', 'uid': 928041}]}\n"
     ]
    }
   ],
   "source": [
    "import requests\n",
    "r = requests.get('https://api.vk.com/method/users.get',params={'user_ids':928041,'fields':'followers_count'})\n",
    "print(r.json())"
   ]
  },
  {
   "cell_type": "markdown",
   "metadata": {},
   "source": [
    "Если вам нужно получить определенную расширенную информацию, то поля нужно указывать через \",\""
   ]
  },
  {
   "cell_type": "code",
   "execution_count": 6,
   "metadata": {
    "collapsed": false
   },
   "outputs": [
    {
     "name": "stdout",
     "output_type": "stream",
     "text": [
      "{'response': [{'followers_count': 3376, 'online': 1, 'uid': 928041, 'first_name': 'Сергей', 'last_seen': {'platform': 7, 'time': 1461502779}, 'last_name': 'Шмаков'}]}\n"
     ]
    }
   ],
   "source": [
    "import requests\n",
    "r = requests.get('https://api.vk.com/method/users.get',params={'user_ids':928041,\n",
    "                                                               'fields':'followers_count,relation,online,last_seen'})\n",
    "print(r.json())"
   ]
  },
  {
   "cell_type": "markdown",
   "metadata": {},
   "source": [
    "> Задачи для самостоятельного решения\n",
    "* Замените id на свой и получите следующую информацию о своём профиле: пол, год рождения, город, родной город, количество друзей, количество подписчиков\n",
    "* Получить сумму подписчиков и друзей (забегая вперёд, нужно самостоятельно разобраться как работать с python-словарями http://pythonworld.ru/tipy-dannyx-v-python/slovari-dict-funkcii-i-metody-slovarej.html\n",
    "\n",
    "**используйте поле ниже для решения самостоятельных задач**"
   ]
  },
  {
   "cell_type": "code",
   "execution_count": 7,
   "metadata": {
    "collapsed": true
   },
   "outputs": [],
   "source": [
    "#здесь вы можете писать код\n",
    "\n"
   ]
  },
  {
   "cell_type": "markdown",
   "metadata": {},
   "source": [
    "# Урок 3: Как получить информацию о нескольких пользователях (объектах)"
   ]
  },
  {
   "cell_type": "markdown",
   "metadata": {},
   "source": [
    "**запустите код ниже**"
   ]
  },
  {
   "cell_type": "code",
   "execution_count": 40,
   "metadata": {
    "collapsed": false
   },
   "outputs": [
    {
     "data": {
      "text/html": [
       "\n",
       "        <iframe\n",
       "            width=\"400\"\n",
       "            height=\"300\"\n",
       "            src=\"https://www.youtube.com/embed/nvH7y9agij0\"\n",
       "            frameborder=\"0\"\n",
       "            allowfullscreen\n",
       "        ></iframe>\n",
       "        "
      ],
      "text/plain": [
       "<IPython.lib.display.YouTubeVideo at 0xd375281978>"
      ]
     },
     "execution_count": 40,
     "metadata": {},
     "output_type": "execute_result"
    }
   ],
   "source": [
    "from IPython.display import YouTubeVideo\n",
    "YouTubeVideo(\"nvH7y9agij0\")"
   ]
  },
  {
   "cell_type": "markdown",
   "metadata": {},
   "source": [
    "**Описание в блоге** - http://freesmm.ru/smm-help/api/vk-3/\n",
    "\n",
    "Материалы для обучения:\n",
    "\n",
    "* Списки в Python — http://pythonworld.ru/tipy-dannyx-v-python/spiski-list-funkcii-i-metody-spiskov.html\n",
    "* Цикл for в Python — http://pythonworld.ru/osnovy/cikly-for-i-while-operatory-break-i-continue-volshebnoe-slovo-else.html\n",
    "\n",
    "**Задача: **\n",
    "> получить основную информацию о пользователях и количестве их подписчиков\n",
    "\n",
    "Для начала создадим новую переменню user_id и присвоей ей значение 928041 и подставим в параметр запроса эту переменную\n",
    "было\n",
    "```python\n",
    "r = requests.get('https://api.vk.com/method/users.get',params={'user_ids':928041,'fields':'followers_count'})\n",
    "```\n",
    "стало\n",
    "```python\n",
    "r = requests.get('https://api.vk.com/method/users.get',params={'user_ids':user_id,'fields':'followers_count'})\n",
    "```\n",
    "\n",
    "**запустите код ниже**"
   ]
  },
  {
   "cell_type": "code",
   "execution_count": 57,
   "metadata": {
    "collapsed": false
   },
   "outputs": [
    {
     "name": "stdout",
     "output_type": "stream",
     "text": [
      "{'response': [{'last_name': 'Шмаков', 'followers_count': 3378, 'first_name': 'Сергей', 'uid': 928041}]}\n"
     ]
    }
   ],
   "source": [
    "import requests\n",
    "user_id = 928041 #новая переменная\n",
    "#добавляем переменную в параметр запрос\n",
    "r = requests.get('https://api.vk.com/method/users.get',params={'user_ids':user_id,'fields':'followers_count'}) \n",
    "print(r.json())"
   ]
  },
  {
   "cell_type": "markdown",
   "metadata": {},
   "source": [
    "**Задача**:\n",
    "> Получить основную информацию о списке пользователей (1, 928041, 342, 7527275) и количестве их подписчиков\n",
    "\n",
    "## Вариант 1: С помощью цикла for\n",
    "Списки в Python — http://pythonworld.ru/tipy-dannyx-v-python/spiski-list-funkcii-i-metody-spiskov.html\n",
    "\n",
    "1. Создаём список **user_id = [1, 928041, 342, 7527275]**\n",
    "2. С помощью цикла **for** проходим по каждому элементу списка (**i**), то есть в выражение\n",
    "```python\n",
    "requests.get('https://api.vk.com/method/users.get',params={'user_ids':i,'fields':'followers_count'})\n",
    "```\n",
    "на место **i** будет поочередно подставлено значение равное элементу списка: сначала 1, потом 928041, потом 342 и 7527275\n",
    "\n",
    "\n",
    "\n"
   ]
  },
  {
   "cell_type": "code",
   "execution_count": 56,
   "metadata": {
    "collapsed": false
   },
   "outputs": [
    {
     "name": "stdout",
     "output_type": "stream",
     "text": [
      "{'response': [{'last_name': 'Дуров', 'followers_count': 6094536, 'first_name': 'Павел', 'uid': 1}]}\n",
      "{'response': [{'last_name': 'Шмаков', 'followers_count': 3378, 'first_name': 'Сергей', 'uid': 928041}]}\n",
      "{'response': [{'last_name': 'Svetloff', 'hidden': 1, 'followers_count': 989, 'first_name': 'Dmitry', 'uid': 342}]}\n",
      "{'response': [{'last_name': 'Жукова', 'first_name': 'Алла', 'uid': 7527275, 'deactivated': 'deleted'}]}\n"
     ]
    }
   ],
   "source": [
    "import requests\n",
    "user_id = [1, 928041, 342, 7527275]\n",
    "for i in user_id:\n",
    "    r = requests.get('https://api.vk.com/method/users.get',params={'user_ids':i,'fields':'followers_count'})\n",
    "    print(r.json())"
   ]
  },
  {
   "cell_type": "markdown",
   "metadata": {},
   "source": [
    "## Вариант 2: отправляем до 1000 id сразу\n",
    "Вариант 1 демонстрирует возможность работы с помощью циклов. Минус этого варианта в том, что нам нужно отправить ровно столько запросов к ВКонткте, сколько id списке у нас есть. В нашем примере это целых 4 запроса. Запросы лучше всегда эконосить и если есть возможность получить всё и сразу, то этот вариант можно признать лучшим.\n",
    "\n",
    "В документации к методу https://vk.com/dev/users.get указано, что можно разом получить информацию не более чем о **1000** пользователей\n",
    "> у разных методов **разные ограничения**\n",
    "\n",
    "Таким образом, нам нужно преобразовать python-список \n",
    "```python\n",
    "user_id = [1, 928041, 342, 7527275]\n",
    "``` \n",
    "в строку \n",
    "```python\n",
    "user_id = '1, 928041, 342, 7527275'\n",
    "```\n",
    "\n",
    "В этом случае использовать цикл for нам не потребуется\n",
    "\n",
    "**запустите код ниже**"
   ]
  },
  {
   "cell_type": "code",
   "execution_count": 55,
   "metadata": {
    "collapsed": false
   },
   "outputs": [
    {
     "name": "stdout",
     "output_type": "stream",
     "text": [
      "{'response': [{'last_name': 'Дуров', 'followers_count': 6094537, 'first_name': 'Павел', 'uid': 1}, {'last_name': 'Шмаков', 'followers_count': 3378, 'first_name': 'Сергей', 'uid': 928041}, {'last_name': 'Svetloff', 'hidden': 1, 'followers_count': 989, 'first_name': 'Dmitry', 'uid': 342}, {'last_name': 'Жукова', 'first_name': 'Алла', 'uid': 7527275, 'deactivated': 'deleted'}]}\n"
     ]
    }
   ],
   "source": [
    "import requests\n",
    "user_id = '1, 928041, 342, 7527275' #теперь это строка\n",
    "r = requests.get('https://api.vk.com/method/users.get',params={'user_ids':user_id,'fields':'followers_count'})\n",
    "print(r.json())"
   ]
  },
  {
   "cell_type": "markdown",
   "metadata": {},
   "source": [
    "> **Задачи для самостоятельного решения**:\n",
    "* Получить основную информацию о своих друзьях или любого другого пользователя ВК. Нужно составить список друзей используя метод https://vk.com/dev/friends.get\n",
    "\n",
    "**используйте поле ниже для решения самостоятельных задач**"
   ]
  },
  {
   "cell_type": "code",
   "execution_count": 12,
   "metadata": {
    "collapsed": true
   },
   "outputs": [],
   "source": [
    "#поле для решения самостоятельных задач\n",
    "\n"
   ]
  },
  {
   "cell_type": "markdown",
   "metadata": {},
   "source": [
    "# Урок 4: Получить информацию о постах в сообществе ВКонтакте или делаем маленький Popsters"
   ]
  },
  {
   "cell_type": "markdown",
   "metadata": {},
   "source": [
    "**запустите код ниже**"
   ]
  },
  {
   "cell_type": "code",
   "execution_count": 41,
   "metadata": {
    "collapsed": false
   },
   "outputs": [
    {
     "data": {
      "text/html": [
       "\n",
       "        <iframe\n",
       "            width=\"400\"\n",
       "            height=\"300\"\n",
       "            src=\"https://www.youtube.com/embed/3YDhM037BWU\"\n",
       "            frameborder=\"0\"\n",
       "            allowfullscreen\n",
       "        ></iframe>\n",
       "        "
      ],
      "text/plain": [
       "<IPython.lib.display.YouTubeVideo at 0xd375281320>"
      ]
     },
     "execution_count": 41,
     "metadata": {},
     "output_type": "execute_result"
    }
   ],
   "source": [
    "from IPython.display import YouTubeVideo\n",
    "YouTubeVideo(\"3YDhM037BWU\")"
   ]
  },
  {
   "cell_type": "markdown",
   "metadata": {},
   "source": [
    "**Задача: **\n",
    "> Получить всю возможную информацию о постах в сообществе\n",
    "\n",
    "Материалы для изучения:\n",
    "* Модуль  - http://pythonworld.ru/moduli/modul-time.html\n",
    "* Модуль  - http://pythonworld.ru/moduli/modul-datetime.html\n",
    "\n",
    "*Давайте разберёмся с задачей, которая перед нами поставлена.* \n",
    "\n",
    "Вся возможная информация это какая? \n",
    "Отправляемся в раздел для разработчиков в методы https://vk.com/dev/. Нам нужно что-то про \"Стену\" - https://vk.com/dev/wall \n",
    "\n",
    "* wall.get, Возвращает список записей со стены пользователя или сообщества. - https://vk.com/dev/wall.get\n",
    "То, что нужно. Теперь разберёмся как он работает\n",
    "\n",
    "\n",
    "\n",
    "Параметр | Описание | Тип данных\n",
    "--- | --- | ---\n",
    "owner_id | идентификатор пользователя или сообщества, со стены которого необходимо получить записи (по умолчанию — текущий пользователь).*Обратите внимание, идентификатор сообщества в параметре owner_id необходимо указывать со знаком \"-\" — например, owner_id=-1 соответствует идентификатору сообщества ВКонтакте API (club1) | целое число`\n",
    "domain | короткий адрес пользователя или сообщества. | строка\n",
    "offset | смещение, необходимое для выборки определенного подмножества записей.  | положительное число\n",
    "count | количество записей, которое необходимо получить (**но не более 100**). | положительное число\n",
    "filter | определяет, какие типы записей на стене необходимо получить. Возможны следующие значения параметра: <br>suggests — предложенные записи на стене сообщества (доступно только при вызове с передачей **access_token**);<br>postponed — отложенные записи (доступно только при вызове с передачей access_token);<br>owner — записи на стене от ее владельца;<br>others — записи на стене не от ее владельца;all — все записи на стене (owner + others).<br> * Если параметр не задан, то считается, что он равен all*  | строка\n",
    "extended | 1 — будут возвращены три массива **wall**, **profiles** и **groups**. По умолчанию дополнительные поля не возвращаются.  | флаг, может принимать значения 1 или 0\n",
    "fields | список дополнительных полей для профилей и групп, которые необходимо вернуть. См. описание полей объекта user и описание полей объекта group - https://vk.com/dev/fields_groups . Обратите внимание, этот параметр учитывается только при extended=1.  | строка. список слов, разделенных через запятую\n",
    "\n",
    "**Результат**\n",
    "После успешного выполнения возвращает список объектов записей на стене. \n",
    "\n",
    "Если был задан параметр **extended=1**, возвращает отдельно списки объектов записей на стене в поле **items**, пользователей с дополнительными полями **photo** и **online** в поле **profiles**, и сообществ в поле groups.\n",
    "\n",
    "Почитали, увидели, теперь давайте попробуем написать код, чтобы отправить запрос и получить информацию о двух записях в группе (первая просто это закреплённый пост). Для примера я буду работать со своим пабликом http://vk.com/smmblog (id = 38369814 )\n",
    "\n",
    "> **Обязательно** ознакомьтесь с этой информацией https://vk.com/dev/post\n",
    "\n",
    "**запустите код ниже**"
   ]
  },
  {
   "cell_type": "code",
   "execution_count": 51,
   "metadata": {
    "collapsed": false,
    "scrolled": true
   },
   "outputs": [
    {
     "data": {
      "text/plain": [
       "{'response': [2356,\n",
       "  {'attachment': {'type': 'video',\n",
       "    'video': {'access_key': '4db941681645efee45',\n",
       "     'date': 1461511297,\n",
       "     'description': 'Из этого видео вы узнаете как можно сократить путь по изучению API ВКонтакте. Не пожалейте 10 минут. Можете включить скорость 2x <br><br>Канал в Телеграме - https://telegram.me/smm_python<br>Подписывайтесь на канал http://youtube.com/smmblog<br>подписывайтесь на мой паблик http://vk.com/smmblog<br>Читайте статьи в блоге http://freesmm.ru',\n",
       "     'duration': 472,\n",
       "     'image': 'http://cs636923.vk.me/u928041/video/l_c5f2cdde.jpg',\n",
       "     'image_big': 'http://cs636923.vk.me/u928041/video/l_c5f2cdde.jpg',\n",
       "     'image_small': 'http://cs636923.vk.me/u928041/video/s_22e3c628.jpg',\n",
       "     'image_xbig': 'http://cs636923.vk.me/u928041/video/y_e6a94f5e.jpg',\n",
       "     'owner_id': -38369814,\n",
       "     'title': '#3.5 VK api для SMM-щика: Учимся быстрее и интереснее',\n",
       "     'vid': 456239022,\n",
       "     'views': 17}},\n",
       "   'attachments': [{'type': 'video',\n",
       "     'video': {'access_key': '4db941681645efee45',\n",
       "      'date': 1461511297,\n",
       "      'description': 'Из этого видео вы узнаете как можно сократить путь по изучению API ВКонтакте. Не пожалейте 10 минут. Можете включить скорость 2x <br><br>Канал в Телеграме - https://telegram.me/smm_python<br>Подписывайтесь на канал http://youtube.com/smmblog<br>подписывайтесь на мой паблик http://vk.com/smmblog<br>Читайте статьи в блоге http://freesmm.ru',\n",
       "      'duration': 472,\n",
       "      'image': 'http://cs636923.vk.me/u928041/video/l_c5f2cdde.jpg',\n",
       "      'image_big': 'http://cs636923.vk.me/u928041/video/l_c5f2cdde.jpg',\n",
       "      'image_small': 'http://cs636923.vk.me/u928041/video/s_22e3c628.jpg',\n",
       "      'image_xbig': 'http://cs636923.vk.me/u928041/video/y_e6a94f5e.jpg',\n",
       "      'owner_id': -38369814,\n",
       "      'title': '#3.5 VK api для SMM-щика: Учимся быстрее и интереснее',\n",
       "      'vid': 456239022,\n",
       "      'views': 17}},\n",
       "    {'link': {'description': '',\n",
       "      'title': 'Прокачай свой SMM',\n",
       "      'url': 'https://telegram.me/smm_python'},\n",
       "     'type': 'link'}],\n",
       "   'comments': {'count': 0},\n",
       "   'date': 1461511753,\n",
       "   'from_id': -38369814,\n",
       "   'id': 19492,\n",
       "   'is_pinned': 1,\n",
       "   'likes': {'count': 17},\n",
       "   'post_type': 'post',\n",
       "   'reposts': {'count': 6},\n",
       "   'signer_id': 928041,\n",
       "   'text': 'Всё-таки решил выложить документ, в котором снимаю курс. А это значит, что Вам не придётся писать большую часть кода, а только редактировать его.<br><br>Надеюсь это увеличит вовлечённость в сам курс. В документе уже описан 4 урок, в котором я показываю как можно получить количество лайков, репостов и комментариев у постов в группе.<br><br>Канал в Телеграме - https://telegram.me/smm_python<br>Установить Анаконду (3.5) - https://www.continuum.io/downloads<br><br>В состав Анаконды входит Jupiter Notebook, которые используется для работы и записи этого курса.',\n",
       "   'to_id': -38369814},\n",
       "  {'attachment': {'photo': {'access_key': '676c2fd82561c6b3c5',\n",
       "     'aid': -7,\n",
       "     'created': 1461358463,\n",
       "     'height': 340,\n",
       "     'owner_id': -90627455,\n",
       "     'pid': 409963369,\n",
       "     'src': 'http://cs633418.vk.me/v633418859/22f79/-IMI7GxXcW4.jpg',\n",
       "     'src_big': 'http://cs633418.vk.me/v633418859/22f7a/CYsQMaMlq3Q.jpg',\n",
       "     'src_small': 'http://cs633418.vk.me/v633418859/22f78/VB2Jw29OTzQ.jpg',\n",
       "     'text': '',\n",
       "     'user_id': 100,\n",
       "     'width': 604},\n",
       "    'type': 'photo'},\n",
       "   'attachments': [{'photo': {'access_key': '676c2fd82561c6b3c5',\n",
       "      'aid': -7,\n",
       "      'created': 1461358463,\n",
       "      'height': 340,\n",
       "      'owner_id': -90627455,\n",
       "      'pid': 409963369,\n",
       "      'src': 'http://cs633418.vk.me/v633418859/22f79/-IMI7GxXcW4.jpg',\n",
       "      'src_big': 'http://cs633418.vk.me/v633418859/22f7a/CYsQMaMlq3Q.jpg',\n",
       "      'src_small': 'http://cs633418.vk.me/v633418859/22f78/VB2Jw29OTzQ.jpg',\n",
       "      'text': '',\n",
       "      'user_id': 100,\n",
       "      'width': 604},\n",
       "     'type': 'photo'},\n",
       "    {'page': {'gid': 90627455,\n",
       "      'pid': '52233084',\n",
       "      'title': 'О себе и Instagram',\n",
       "      'view_url': 'http://m.vk.com/page-90627455_52233084?api_view=794952bb8fe5fac79ad384952bb7f6'},\n",
       "     'type': 'page'}],\n",
       "   'comments': {'count': 0},\n",
       "   'copy_owner_id': -90627455,\n",
       "   'copy_post_date': 1461402100,\n",
       "   'copy_post_id': 209,\n",
       "   'copy_post_type': 'post',\n",
       "   'date': 1461513960,\n",
       "   'from_id': -38369814,\n",
       "   'id': 19495,\n",
       "   'likes': {'count': 2},\n",
       "   'post_type': 'copy',\n",
       "   'reposts': {'count': 1},\n",
       "   'signer_id': 38413859,\n",
       "   'text': '',\n",
       "   'to_id': -38369814}]}"
      ]
     },
     "execution_count": 51,
     "metadata": {},
     "output_type": "execute_result"
    }
   ],
   "source": [
    "import requests\n",
    "r = requests.get('https://api.vk.com/method/wall.get',params={'owner_id':-38369814,'count':2})\n",
    "r.json()"
   ]
  },
  {
   "cell_type": "markdown",
   "metadata": {},
   "source": [
    "Как видите, информации очень много. Пост или запись может включать себя другие объекты: фото, видео, документы, музыку, другие записи. \n",
    "\n",
    "Давайте обновим задачу, так как информации слишком много и для нас она вся неочень интересна.\n",
    "\n",
    "**Обновление задачи:**\n",
    "> * получить количество лайков, репостов, комментариев у каждой записи с датой публикации"
   ]
  },
  {
   "cell_type": "markdown",
   "metadata": {},
   "source": [
    "Для того, чтобы вытащить нужные нам данные нужно научиться доставать их из Словарей и Списков.\n",
    "Приведу несколько простых примеров для понимания\n",
    "\n",
    "Обращение к объекту списка по его индексу - http://pythonworld.ru/osnovy/indeksy-i-srezy.html"
   ]
  },
  {
   "cell_type": "code",
   "execution_count": 14,
   "metadata": {
    "collapsed": false
   },
   "outputs": [
    {
     "name": "stdout",
     "output_type": "stream",
     "text": [
      "Василий\n",
      "Василий работает в smmplanner\n"
     ]
    }
   ],
   "source": [
    "list= ['Сергей','Василий', 'smmplanner'] #списки всегда в квадратных скобках, а строки в кавычках\n",
    "#Чтобы достать из списка Василия нужно обратиться к 1 элементу списка. Порядок элементов в списке начинается с нуля \"0\"\n",
    "print(list[1]) #Выведит на экран Василий\n",
    "print(list[1],'работает в',list[2]) #Выведит на экран Василий работает в smmplanner"
   ]
  },
  {
   "cell_type": "markdown",
   "metadata": {},
   "source": [
    "Теперь пример для Словаря. \n",
    "Подробнее о Словарях - http://pythonworld.ru/tipy-dannyx-v-python/slovari-dict-funkcii-i-metody-slovarej.html\n",
    "\n",
    "## Задача про склад с мороженным\n",
    "Давайте представим, что у нас есть 2 вида мороженного: Пломбир и Эскимо. Продаются они с разной ценой и в разной валюте. Нужно вывести на экран Тип мороженного, цену, валюту и Остаток на складе . Для Эскимо посчитать стоимость остатка на складе по курсу доллара 1$ = 65 руб"
   ]
  },
  {
   "cell_type": "code",
   "execution_count": 47,
   "metadata": {
    "collapsed": false
   },
   "outputs": [
    {
     "name": "stdout",
     "output_type": "stream",
     "text": [
      "[{'Склад': 10, 'Цена': 256, 'Валюта': 'руб.', 'Тип': 'Пломбир'}, {'Склад': 5, 'Цена': 221, 'Валюта': '$', 'Тип': 'Эскимо'}]\n"
     ]
    }
   ],
   "source": [
    "dict = {'Мороженное':[{'Тип':'Пломбир', 'Цена':256, 'Валюта':'руб.', 'Склад':10},\n",
    "                      {'Тип':'Эскимо', 'Цена':221, 'Склад':5, 'Валюта':'$'}]}\n",
    "print(dict['Мороженное']) #обращение по ключу Словаря\n",
    "#При обращении по этому ключу мы попадаем в список, внутри которого 2 списка, внутри которых Словари :)))\n",
    "#Теперь можно обратиться по индексу, чтобы получить информацию из первого[0] или второго списка[1]"
   ]
  },
  {
   "cell_type": "markdown",
   "metadata": {},
   "source": [
    "*поочереди запустите код ниже*"
   ]
  },
  {
   "cell_type": "code",
   "execution_count": 41,
   "metadata": {
    "collapsed": false
   },
   "outputs": [
    {
     "name": "stdout",
     "output_type": "stream",
     "text": [
      "Информация о пломбире {'Склад': 10, 'Цена': 256, 'Валюта': 'руб.', 'Тип': 'Пломбир'}\n",
      "Информация об эскимо {'Склад': 5, 'Цена': 221, 'Валюта': '$', 'Тип': 'Эскимо'}\n"
     ]
    }
   ],
   "source": [
    "print('Информация о пломбире', dict['Мороженное'][0])\n",
    "print('Информация об эскимо', dict['Мороженное'][1])"
   ]
  },
  {
   "cell_type": "code",
   "execution_count": 49,
   "metadata": {
    "collapsed": false
   },
   "outputs": [
    {
     "data": {
      "text/plain": [
       "int"
      ]
     },
     "execution_count": 49,
     "metadata": {},
     "output_type": "execute_result"
    }
   ],
   "source": []
  },
  {
   "cell_type": "code",
   "execution_count": 43,
   "metadata": {
    "collapsed": false
   },
   "outputs": [
    {
     "name": "stdout",
     "output_type": "stream",
     "text": [
      "Тип мороженного: Пломбир\n",
      "Тип мороженного: Эскимо\n"
     ]
    }
   ],
   "source": [
    "print('Тип мороженного:', dict['Мороженное'][0]['Тип'])\n",
    "print('Тип мороженного:', dict['Мороженное'][1]['Тип'])"
   ]
  },
  {
   "cell_type": "code",
   "execution_count": 18,
   "metadata": {
    "collapsed": false
   },
   "outputs": [
    {
     "name": "stdout",
     "output_type": "stream",
     "text": [
      "Цена: 256\n",
      "Цена: 221\n"
     ]
    }
   ],
   "source": [
    "print('Цена:', dict['Мороженное'][0]['Цена'])\n",
    "print('Цена:', dict['Мороженное'][1]['Цена'])"
   ]
  },
  {
   "cell_type": "code",
   "execution_count": 44,
   "metadata": {
    "collapsed": false
   },
   "outputs": [
    {
     "name": "stdout",
     "output_type": "stream",
     "text": [
      "Валюта: руб.\n",
      "Валюта: $\n"
     ]
    }
   ],
   "source": [
    "print('Валюта:', dict['Мороженное'][0]['Валюта'])\n",
    "print('Валюта:', dict['Мороженное'][1]['Валюта'])"
   ]
  },
  {
   "cell_type": "markdown",
   "metadata": {},
   "source": [
    "Давайте теперь представим, что у нас на складе много всяких типов мороженного с разными ценами и с разным количеством на складе. Но мы знаем, что у нас 2 типа мороженных.\n",
    "\n",
    "\n",
    "Для того, чтобы нам не пришлось писать столько принтов мы используем уже знакомый цикл for, которы будет проходить по списку значений, которые генерирует функция **range**. \n",
    "Информация для изучения - http://informatics.mccme.ru/mod/book/view.php?id=2534&chapterid=360\n",
    "\n",
    "**запустите код ниже**"
   ]
  },
  {
   "cell_type": "code",
   "execution_count": 50,
   "metadata": {
    "collapsed": false
   },
   "outputs": [
    {
     "name": "stdout",
     "output_type": "stream",
     "text": [
      "0\n",
      "1\n",
      "2\n",
      "3\n",
      "4\n",
      "5\n",
      "6\n",
      "7\n",
      "8\n",
      "9\n"
     ]
    }
   ],
   "source": [
    "for i in range(10): #попробуйте заменить значения в скобках на (5,10) и на (5,15,2)\n",
    "    print(i)"
   ]
  },
  {
   "cell_type": "markdown",
   "metadata": {},
   "source": [
    "Переменные **type_morojenka**,**price** и другие находятся в теле цикла, потому что нам каждый раз нужно присвоить им новые значения\n",
    "\n",
    "**запустите код ниже**"
   ]
  },
  {
   "cell_type": "code",
   "execution_count": 46,
   "metadata": {
    "collapsed": false
   },
   "outputs": [
    {
     "name": "stdout",
     "output_type": "stream",
     "text": [
      "Пломбир \n",
      "Стоимость: 256 руб. Количество на складе 10\n",
      "Эскимо \n",
      "Стоимость: 221 $ Количество на складе 5\n",
      "Стоимость остатков Эскимо на складе:325 руб.\n"
     ]
    }
   ],
   "source": [
    "dict = {'Мороженное':[{'Тип':'Пломбир', 'Цена':256, 'Валюта':'руб.', 'Склад':10},\n",
    "                      {'Тип':'Эскимо', 'Цена':221, 'Склад':5, 'Валюта':'$'}]}\n",
    "sklad_morojenki = dict['Мороженное']\n",
    "\n",
    "for i in range(2): #вместо 2 мы могли подставить значение len(dict['Мороженное'])\n",
    "                   #считает сколько элементов в списке или чему равна его длина\n",
    "    type_morojenka = dict['Мороженное'][i]['Тип']\n",
    "    price = dict['Мороженное'][i]['Цена']\n",
    "    cy = dict['Мороженное'][i]['Валюта']\n",
    "    value = dict['Мороженное'][i]['Склад']\n",
    "    print(type_morojenka,'\\nСтоимость:',price, cy,'Количество на складе',value)\n",
    "    if type_morojenka == 'Эскимо':\n",
    "        print('Стоимость остатков Эскимо на складе:' + str(value*65) +' руб.')\n",
    "    "
   ]
  },
  {
   "cell_type": "markdown",
   "metadata": {},
   "source": [
    "### Возвращаемся к задаче про сбор информации о постах в паблике ВКонтакте\n",
    "Вернёмся к нашим баранам с получением информации о постах в группе. Напомню, что нам нужно получить:\n",
    "* количество лайков\n",
    "* количество репостов \n",
    "* количество комментариев \n",
    "* дату публикацией этих постов\n",
    "* желательно оформить всё в видео удобной таблицы, либо так, чтобы это можно было скопировать в эксель\n",
    "\n",
    "Давайте достать дату и время для 2х наших постов, которые мы получили выше. Ниже мы используем тот же самый метод что и в задаче с мороженным"
   ]
  },
  {
   "cell_type": "code",
   "execution_count": 52,
   "metadata": {
    "collapsed": false
   },
   "outputs": [
    {
     "name": "stdout",
     "output_type": "stream",
     "text": [
      "1461513960 1461511753\n"
     ]
    }
   ],
   "source": [
    "import requests\n",
    "r = requests.get('https://api.vk.com/method/wall.get',params={'owner_id':-38369814,'count':2})\n",
    "response = r.json()\n",
    "post_date1 = response['response'][1]['date'] #выведит первую запись на стене или закреплённый пост\n",
    "post_date = response['response'][2]['date'] #выведит на экран вторую запись на стене\n",
    "print(post_date, post_date1)"
   ]
  },
  {
   "cell_type": "markdown",
   "metadata": {
    "collapsed": true
   },
   "source": [
    "Почему дата выглядит так мы рассмотрим позже. Сейчас нас это мало заботит.\n",
    "\n",
    "Как и в задаче с мороженным мы предполагаем, что у нас будет сотри и тысячи публикаций, для которых нужно будет получать информацию. Следовательно, мы не можем для каждой даты создавать переменную таким образом\n",
    "```python\n",
    "post_date1 = response['response'][1]['date'] #выведит первую запись на стене или закреплённый пост\n",
    "post_date = response['response'][2]['date'] #выведит на экран вторую запись на стене\n",
    "```\n",
    "и значит, будем использовать цикл **for**\n",
    "\n",
    "**запустите код ниже**"
   ]
  },
  {
   "cell_type": "code",
   "execution_count": 22,
   "metadata": {
    "collapsed": false
   },
   "outputs": [
    {
     "name": "stdout",
     "output_type": "stream",
     "text": [
      "Количество постов на стене =  2353\n",
      "1460890265 4\n",
      "1461426061 4\n"
     ]
    }
   ],
   "source": [
    "import requests\n",
    "r = requests.get('https://api.vk.com/method/wall.get',params={'owner_id':-38369814,'count':2})\n",
    "response = r.json()\n",
    "print('Количество постов на стене = ',response['response'][0]) #выводит 1 раз\n",
    "#Создаём цикл с переменными для каждого поста\n",
    "for i in range(1,3):\n",
    "    post_date = response['response'][i]['date'] #дата и время публикации в Unix-формате\n",
    "    comments_count = response['response'][i]['comments']['count'] #количество комментариев\n",
    "    post_id = response['response'][i]['id'] #id поста в сообществе\n",
    "    group_id = response['response'][i]['to_id'] #id сообщества . В версиях API ниже 5.7 вместо поля owner_id приходит to_id.\n",
    "    likes_count = response['response'][i]['likes']['count'] #количество лайков\n",
    "    repost_count = response['response'][i]['reposts']['count']  #количество репостов\n",
    "    signer_id = response['response'][i]['signer_id'] #если есть подпись автора    \n",
    "    print(post_date,comments_count)\n"
   ]
  },
  {
   "cell_type": "markdown",
   "metadata": {},
   "source": [
    "Так, мы смогли вывести на экран количество постов, дату публикации и количество комментариев функцией\n",
    "```python\n",
    "print(post_date,comments_count)\n",
    "```\n",
    "Теперь нам нужно её доработатать, чтобы информация была понятна для нас с вами. \"Странную\" дату пока не трогаем. Работает с тем что есть.\n",
    "\n",
    "В итоге код, чтобы получить информацию о 2х последних постах\n",
    "\n",
    "**запустите код ниже**"
   ]
  },
  {
   "cell_type": "code",
   "execution_count": 58,
   "metadata": {
    "collapsed": false
   },
   "outputs": [
    {
     "name": "stdout",
     "output_type": "stream",
     "text": [
      "Количество постов на стене =  2356\n",
      "Дата публикации , Ссылка , Количество лайков , Количество репостов , Количество комментариев\n",
      "1461511753 , https://vk.com/wall-38369814_19492 , 19 , 7 , 0\n",
      "1461513960 , https://vk.com/wall-38369814_19495 , 7 , 2 , 0\n"
     ]
    }
   ],
   "source": [
    "import requests\n",
    "r = requests.get('https://api.vk.com/method/wall.get',params={'owner_id':-38369814,'count':2})\n",
    "response = r.json()\n",
    "print('Количество постов на стене = ',response['response'][0]) #выводит 1 раз\n",
    "#Создаём цикл с переменными для каждого поста\n",
    "\n",
    "print('Дата публикации',',','Ссылка',',','Количество лайков',',','Количество репостов',',','Количество комментариев')\n",
    "for i in range(1,3):\n",
    "    post_date = response['response'][i]['date'] #дата и время публикации в Unix-формате\n",
    "    comments_count = response['response'][i]['comments']['count'] #количество комментариев\n",
    "    post_id = response['response'][i]['id'] #id поста в сообществе\n",
    "    group_id = response['response'][i]['to_id'] #id сообщества . В версиях API ниже 5.7 вместо поля owner_id приходит to_id.\n",
    "    likes_count = response['response'][i]['likes']['count'] #количество лайков\n",
    "    repost_count = response['response'][i]['reposts']['count']  #количество репостов\n",
    "    print(post_date,',','https://vk.com/wall'+str(group_id)+'_'+str(post_id),',',\n",
    "          likes_count,',',repost_count,',',comments_count)"
   ]
  },
  {
   "cell_type": "markdown",
   "metadata": {
    "collapsed": true
   },
   "source": [
    "Теперь, чтобы получить 100 постов вам нужно заменить параметр 'counte':100\n",
    "```python\n",
    "r = requests.get('https://api.vk.com/method/wall.get',params={'owner_id':-38369814,'count':100})\n",
    "```\n",
    "\n",
    "**запустите код ниже**"
   ]
  },
  {
   "cell_type": "code",
   "execution_count": null,
   "metadata": {
    "collapsed": true
   },
   "outputs": [],
   "source": [
    "import requests\n",
    "r = requests.get('https://api.vk.com/method/wall.get',params={'owner_id':-38369814,'count':100})\n",
    "response = r.json()\n",
    "print('Количество постов на стене = ',response['response'][0]) #выводит 1 раз\n",
    "#Создаём цикл с переменными для каждого поста\n",
    "\n",
    "print('Дата публикации',',','Ссылка',',','Количество лайков',',','Количество репостов',',','Количество комментариев')\n",
    "for i in range(1,3):\n",
    "    post_date = response['response'][i]['date'] #дата и время публикации в Unix-формате\n",
    "    comments_count = response['response'][i]['comments']['count'] #количество комментариев\n",
    "    post_id = response['response'][i]['id'] #id поста в сообществе\n",
    "    group_id = response['response'][i]['to_id'] #id сообщества . В версиях API ниже 5.7 вместо поля owner_id приходит to_id.\n",
    "    likes_count = response['response'][i]['likes']['count'] #количество лайков\n",
    "    repost_count = response['response'][i]['reposts']['count']  #количество репостов\n",
    "    print(post_date,',','https://vk.com/wall'+str(group_id)+'_'+str(post_id),',',\n",
    "          likes_count,',',repost_count,',',comments_count)"
   ]
  },
  {
   "cell_type": "markdown",
   "metadata": {},
   "source": [
    "# Урок 5: анализ всех постов в группе ВКонтакте"
   ]
  },
  {
   "cell_type": "code",
   "execution_count": 44,
   "metadata": {
    "collapsed": false
   },
   "outputs": [
    {
     "data": {
      "text/html": [
       "\n",
       "        <iframe\n",
       "            width=\"400\"\n",
       "            height=\"300\"\n",
       "            src=\"https://www.youtube.com/embed/NMatAWwa7Ac\"\n",
       "            frameborder=\"0\"\n",
       "            allowfullscreen\n",
       "        ></iframe>\n",
       "        "
      ],
      "text/plain": [
       "<IPython.lib.display.YouTubeVideo at 0xd3753c49e8>"
      ]
     },
     "execution_count": 44,
     "metadata": {},
     "output_type": "execute_result"
    }
   ],
   "source": [
    "from IPython.display import YouTubeVideo\n",
    "YouTubeVideo(\"NMatAWwa7Ac\")"
   ]
  },
  {
   "cell_type": "markdown",
   "metadata": {},
   "source": [
    "> из этого урока вы узнаете как можно получить все посты из группы или профиля ВКонтакте\n",
    "\n",
    "В уроке №4 мы разобрали как обрабатывать данные, чтобы в дальнейшем с ними работать. \n",
    "\n",
    "В 4 уроке у нас получилось получить данные только о 100 постах за раз, так как метод **wall.get** (https://vk.com/dev/wall.get) за один раз отдать больше не может. НО!\n",
    "\n",
    "В методе есть параметр **offset**, который означает смещение.Это означает, что мы можем получать данные от первого до последнего поста пачками по 100 штук.\n",
    "\n",
    "Упрощённая версия без обработки данных\n",
    "\n",
    "**запустите код ниже**"
   ]
  },
  {
   "cell_type": "code",
   "execution_count": null,
   "metadata": {
    "collapsed": false
   },
   "outputs": [],
   "source": [
    "import requests\n",
    "r = requests.get('https://api.vk.com/method/wall.get',params={'owner_id':-38369814,'count':100, 'offset':0}) \n",
    "                                                        #без смещения - получим 3 последних поста - 1,2,3\n",
    "print(r.json()) #выводим на экран первые ответ\n",
    "r = requests.get('https://api.vk.com/method/wall.get',params={'owner_id':-38369814,'count':100, 'offset':100})\n",
    "                                                        #смещаемся от последнего поста на 3 - получаем 4,5,6 пост\n",
    "print(r.json()) #выводим на экран второй ответ"
   ]
  },
  {
   "cell_type": "markdown",
   "metadata": {},
   "source": [
    "Давайте теперь подумаем и попытаемся нарисовать алгоритм, который нам нужно описать, чтобы получить столько постов, сколько будет на стене\n",
    "\n",
    "Ограничения:\n",
    "* за один запрос мы можем получить до 100 постов\n",
    "* максимальное смещение 100\n",
    "* запросы к ВК отправлять не чаще 3 запросов в секунду\n",
    "\n",
    ">прежде чем начинать писать, подумайте в каком порядке нужно запускать определенные действия. Попробуйте нарисовать. Проще картинки править, чем непонятный код, который вы не понимаете.\n",
    "\n",
    "Алгоритм:\n",
    "0. Смещение больше или равно количеству публикаций? Если нет, то п.1 \\ Если да, то все посты обработаны\n",
    "1. Отправляем запрос к ВК для получения последних 100 записей\n",
    "2. Обрабатываем полученные данные (см. урок 4) и выводим на экран\n",
    "3. Увеличиваем смещение на 100 и возвращаемся к 1 пункту\n",
    "\n",
    "Картинка алгоритма\n",
    "![alt](https://api.monosnap.com/rpc/file/download?id=Q3YXzb6SK9lu1XoPp6TUiWGbQWHGE7)\n",
    "\n",
    "**Запустите код ниже**\n",
    "он позволяет получить информацию о количестве лайков, репостов, комментариев в любом сообществе или профиле\n",
    "\n",
    "**Не запускайте этот код для профилей** и сообществ, в которых много постов. Для сообществ и профилей с большим количеством постов лучше сразу писать в файл. Код ниже для демострации логики процесса"
   ]
  },
  {
   "cell_type": "code",
   "execution_count": null,
   "metadata": {
    "collapsed": false
   },
   "outputs": [],
   "source": [
    "import requests\n",
    "\n",
    "group_id = -38369814 #ID сообществ нужно писать с минусом, профиля - без\n",
    "count = 100 #количество постов, получаемых за 1 запрос\n",
    "offset = 0 #начальное смещение\n",
    "\n",
    "#Узнаем сколько постов в сообществе\n",
    "\n",
    "r = requests.get('https://api.vk.com/method/wall.get',params={'owner_id':group_id,'count':0})\n",
    "response = r.json()\n",
    "post_count = response['response'][0] #количество постов в группе или профиле\n",
    "print('Количество постов в сообществе:',post_count)\n",
    "\n",
    "print('Дата публикации',',','Ссылка',',','Количество лайков',',','Количество репостов',',','Количество комментариев')\n",
    "\n",
    "while offset < post_count:\n",
    "    r = requests.get('https://api.vk.com/method/wall.get',params={'owner_id':group_id,'count':count, 'offset':offset})\n",
    "    response = r.json()\n",
    "\n",
    "    #запускаем цикл для обработки ответа\n",
    "    for i in range(1,101):\n",
    "        post_date = response['response'][i]['date'] #дата и время публикации в Unix-формате\n",
    "        comments_count = response['response'][i]['comments']['count'] #количество комментариев\n",
    "        post_id = response['response'][i]['id'] #id поста в сообществе\n",
    "        group_id = response['response'][i]['to_id'] #id сообщества . В версиях API ниже 5.7 вместо поля owner_id приходит to_id.\n",
    "        likes_count = response['response'][i]['likes']['count'] #количество лайков\n",
    "        repost_count = response['response'][i]['reposts']['count']  #количество репостов\n",
    "        print(post_date,',','https://vk.com/wall'+str(group_id)+'_'+str(post_id),',', \n",
    "              likes_count,',',repost_count,',',comments_count)\n",
    "    offset = offset + 100\n",
    "\n"
   ]
  },
  {
   "cell_type": "markdown",
   "metadata": {
    "collapsed": true
   },
   "source": [
    "> **Задача для самостоятельного решения**:\n",
    "Разобраться с преобразованием даты из Unix-формата в тот, который нужен вам.\n",
    "\n",
    "Всем хороших майских выходных!!!"
   ]
  },
  {
   "cell_type": "markdown",
   "metadata": {
    "collapsed": true
   },
   "source": [
    "## Продолжение 5 урока\n",
    ">7 мая 2016 г. Продолжение урока 5\n",
    "\n",
    "В 5 уроке мы получили \"странную\" дату в unix-формате. \n",
    "\n",
    "### Теория\n",
    "* unix-время: https://ru.wikipedia.org/wiki/UNIX-%D0%B2%D1%80%D0%B5%D0%BC%D1%8F\n",
    "* онлайн-конвертер: http://www.cy-pr.com/tools/time/\n",
    "\n",
    "Для её преобразования нужно использовать модуль **datetime** - http://pythonworld.ru/moduli/modul-datetime.html и **time** - http://pythonworld.ru/moduli/modul-time.html\n",
    "\n",
    "Так в примере выше мы получаем дату и время поста от ВКонтакте\n",
    "\n",
    "```python\n",
    "post_date = response['response'][i]['date'] #дата и время публикации в Unix-формате\n",
    "```\n",
    "\n",
    "Он возвращает нам нечто вроде 1459255942.\n",
    "\n",
    "> Задача: преобразовать 1459255942 в формам времени - Год-Месяц Час-Минута-Секунда\n",
    "\n",
    "**запустите код ниже**\n"
   ]
  },
  {
   "cell_type": "code",
   "execution_count": 6,
   "metadata": {
    "collapsed": false
   },
   "outputs": [
    {
     "name": "stdout",
     "output_type": "stream",
     "text": [
      "Дата публикации: 2016-03-29 15:52:22\n"
     ]
    }
   ],
   "source": [
    "import datetime #импортируем пакеты\n",
    "import time #импортируем пакеты\n",
    "\n",
    "unix_time = 1459255942 #время в unix-формате\n",
    "\n",
    "normal_time =  datetime.datetime.fromtimestamp( #функция преобразования\n",
    "                int(1459255942)\n",
    "                ).strftime('%Y-%m-%d %H:%M:%S') #фортма преобразования Год-Месяц Час-Минута-Секунда\n",
    "\n",
    "print('Дата публикации:',normal_time)"
   ]
  },
  {
   "cell_type": "markdown",
   "metadata": {},
   "source": [
    "Теперь код для получения списка постов с количество лайков\\репостов\\комментариев и **нормальной** датой будет выглядеть так:\n",
    "\n",
    "**запустите код ниже**"
   ]
  },
  {
   "cell_type": "code",
   "execution_count": 7,
   "metadata": {
    "collapsed": false
   },
   "outputs": [
    {
     "name": "stdout",
     "output_type": "stream",
     "text": [
      "Количество постов в сообществе: 287\n",
      "Дата публикации , Ссылка , Количество лайков , Количество репостов , Количество комментариев\n",
      "2016-05-06 10:38:20 , https://vk.com/wall-46922041_379 , 3 , 2 , 0\n",
      "2016-05-04 18:14:27 , https://vk.com/wall-46922041_378 , 1 , 0 , 0\n",
      "2016-05-04 18:08:02 , https://vk.com/wall-46922041_377 , 0 , 0 , 0\n",
      "2016-04-29 17:25:51 , https://vk.com/wall-46922041_376 , 0 , 0 , 0\n",
      "2016-04-29 10:34:01 , https://vk.com/wall-46922041_375 , 0 , 0 , 0\n",
      "2016-04-28 17:51:39 , https://vk.com/wall-46922041_374 , 23 , 5 , 0\n",
      "2016-04-28 15:27:22 , https://vk.com/wall-46922041_371 , 2 , 0 , 0\n",
      "2016-04-27 11:50:12 , https://vk.com/wall-46922041_370 , 0 , 0 , 0\n",
      "2016-04-26 10:52:05 , https://vk.com/wall-46922041_369 , 0 , 0 , 0\n",
      "2016-04-25 16:04:53 , https://vk.com/wall-46922041_368 , 1 , 0 , 0\n",
      "2016-04-22 19:22:04 , https://vk.com/wall-46922041_367 , 5 , 3 , 0\n",
      "2016-04-18 11:18:22 , https://vk.com/wall-46922041_366 , 1 , 0 , 0\n",
      "2016-04-18 10:45:46 , https://vk.com/wall-46922041_365 , 0 , 0 , 0\n",
      "2016-04-15 15:04:40 , https://vk.com/wall-46922041_364 , 0 , 0 , 0\n",
      "2016-04-15 10:44:42 , https://vk.com/wall-46922041_363 , 0 , 0 , 0\n",
      "2016-04-14 15:24:47 , https://vk.com/wall-46922041_362 , 0 , 0 , 0\n",
      "2016-04-13 10:50:45 , https://vk.com/wall-46922041_361 , 2 , 0 , 0\n",
      "2016-04-12 16:46:23 , https://vk.com/wall-46922041_357 , 1 , 0 , 0\n",
      "2016-04-12 15:29:58 , https://vk.com/wall-46922041_356 , 1 , 0 , 0\n",
      "2016-04-12 12:09:31 , https://vk.com/wall-46922041_355 , 0 , 0 , 0\n",
      "2016-04-11 17:59:22 , https://vk.com/wall-46922041_354 , 0 , 0 , 0\n",
      "2016-04-08 15:20:55 , https://vk.com/wall-46922041_353 , 0 , 0 , 0\n",
      "2016-04-08 11:29:55 , https://vk.com/wall-46922041_352 , 0 , 0 , 0\n",
      "2016-04-08 09:41:50 , https://vk.com/wall-46922041_351 , 1 , 0 , 0\n",
      "2016-04-08 09:33:42 , https://vk.com/wall-46922041_350 , 1 , 0 , 0\n",
      "2016-04-07 10:07:47 , https://vk.com/wall-46922041_349 , 0 , 0 , 3\n",
      "2016-04-05 14:29:48 , https://vk.com/wall-46922041_347 , 3 , 1 , 0\n",
      "2016-03-15 12:12:21 , https://vk.com/wall-46922041_345 , 6 , 1 , 0\n",
      "2016-03-03 17:45:01 , https://vk.com/wall-46922041_344 , 11 , 2 , 0\n",
      "2016-02-16 17:49:34 , https://vk.com/wall-46922041_343 , 1 , 2 , 0\n",
      "2016-02-10 17:47:23 , https://vk.com/wall-46922041_342 , 0 , 0 , 0\n",
      "2016-02-09 21:14:17 , https://vk.com/wall-46922041_341 , 0 , 0 , 0\n",
      "2016-02-08 17:47:49 , https://vk.com/wall-46922041_340 , 1 , 0 , 0\n",
      "2016-01-21 18:24:59 , https://vk.com/wall-46922041_336 , 0 , 0 , 1\n",
      "2016-01-20 23:46:38 , https://vk.com/wall-46922041_335 , 20 , 7 , 2\n",
      "2016-01-20 15:29:12 , https://vk.com/wall-46922041_334 , 1 , 1 , 0\n",
      "2016-01-14 12:03:39 , https://vk.com/wall-46922041_327 , 7 , 4 , 5\n",
      "2015-12-30 17:29:33 , https://vk.com/wall-46922041_326 , 6 , 1 , 0\n",
      "2015-12-04 15:56:06 , https://vk.com/wall-46922041_324 , 2 , 0 , 0\n",
      "2015-11-10 16:26:53 , https://vk.com/wall-46922041_322 , 8 , 3 , 1\n",
      "2015-10-08 21:58:01 , https://vk.com/wall-46922041_321 , 1 , 0 , 0\n",
      "2015-10-08 21:56:04 , https://vk.com/wall-46922041_320 , 1 , 0 , 0\n",
      "2015-10-06 17:54:14 , https://vk.com/wall-46922041_319 , 2 , 1 , 0\n",
      "2015-09-10 23:22:54 , https://vk.com/wall-46922041_317 , 4 , 0 , 0\n",
      "2015-09-06 23:38:13 , https://vk.com/wall-46922041_316 , 1 , 0 , 0\n",
      "2015-09-06 15:18:14 , https://vk.com/wall-46922041_315 , 0 , 0 , 0\n",
      "2015-09-04 11:44:20 , https://vk.com/wall-46922041_314 , 1 , 0 , 0\n",
      "2015-09-03 18:43:11 , https://vk.com/wall-46922041_312 , 2 , 0 , 2\n",
      "2015-08-30 17:31:31 , https://vk.com/wall-46922041_311 , 2 , 0 , 0\n",
      "2015-08-30 17:07:20 , https://vk.com/wall-46922041_310 , 3 , 2 , 0\n",
      "2015-08-06 23:02:46 , https://vk.com/wall-46922041_309 , 1 , 0 , 0\n",
      "2015-08-06 21:54:18 , https://vk.com/wall-46922041_308 , 1 , 0 , 0\n",
      "2015-08-06 21:29:13 , https://vk.com/wall-46922041_307 , 3 , 0 , 0\n",
      "2015-08-04 13:12:12 , https://vk.com/wall-46922041_306 , 1 , 0 , 0\n",
      "2015-08-04 12:58:24 , https://vk.com/wall-46922041_305 , 0 , 0 , 0\n",
      "2015-06-30 11:56:34 , https://vk.com/wall-46922041_304 , 0 , 0 , 0\n",
      "2015-06-30 11:07:37 , https://vk.com/wall-46922041_303 , 0 , 0 , 0\n",
      "2015-06-26 10:16:46 , https://vk.com/wall-46922041_302 , 3 , 2 , 0\n",
      "2015-06-18 15:52:05 , https://vk.com/wall-46922041_301 , 0 , 0 , 0\n",
      "2015-06-10 19:53:54 , https://vk.com/wall-46922041_298 , 1 , 0 , 1\n",
      "2015-05-28 10:45:04 , https://vk.com/wall-46922041_297 , 1 , 0 , 0\n",
      "2015-05-22 15:08:22 , https://vk.com/wall-46922041_296 , 1 , 1 , 0\n",
      "2015-05-14 00:21:30 , https://vk.com/wall-46922041_295 , 0 , 0 , 0\n",
      "2015-05-11 13:53:50 , https://vk.com/wall-46922041_294 , 0 , 0 , 0\n",
      "2015-05-11 13:18:01 , https://vk.com/wall-46922041_292 , 0 , 0 , 1\n",
      "2015-05-10 17:17:12 , https://vk.com/wall-46922041_291 , 0 , 0 , 0\n",
      "2015-05-10 17:13:29 , https://vk.com/wall-46922041_290 , 0 , 0 , 0\n",
      "2015-05-10 17:10:56 , https://vk.com/wall-46922041_289 , 0 , 0 , 0\n",
      "2015-05-10 17:06:01 , https://vk.com/wall-46922041_288 , 0 , 0 , 0\n",
      "2015-05-10 17:04:19 , https://vk.com/wall-46922041_287 , 0 , 0 , 0\n",
      "2015-04-17 17:20:06 , https://vk.com/wall-46922041_282 , 9 , 1 , 0\n",
      "2015-04-17 16:03:06 , https://vk.com/wall-46922041_281 , 5 , 1 , 0\n",
      "2015-04-17 10:48:33 , https://vk.com/wall-46922041_279 , 2 , 4 , 0\n",
      "2015-04-17 10:32:35 , https://vk.com/wall-46922041_277 , 2 , 3 , 0\n",
      "2015-04-16 14:37:48 , https://vk.com/wall-46922041_275 , 1 , 5 , 2\n",
      "2015-04-15 10:04:18 , https://vk.com/wall-46922041_274 , 3 , 0 , 0\n",
      "2015-04-14 16:32:29 , https://vk.com/wall-46922041_273 , 3 , 0 , 0\n",
      "2015-04-11 16:18:31 , https://vk.com/wall-46922041_270 , 2 , 0 , 0\n",
      "2015-04-11 16:12:56 , https://vk.com/wall-46922041_269 , 0 , 0 , 0\n",
      "2015-04-09 12:20:35 , https://vk.com/wall-46922041_268 , 0 , 0 , 0\n",
      "2015-04-08 22:12:36 , https://vk.com/wall-46922041_267 , 2 , 1 , 0\n",
      "2015-04-07 15:26:37 , https://vk.com/wall-46922041_266 , 0 , 0 , 0\n",
      "2015-04-07 09:46:22 , https://vk.com/wall-46922041_265 , 0 , 0 , 0\n",
      "2015-04-06 16:53:08 , https://vk.com/wall-46922041_264 , 2 , 0 , 0\n",
      "2015-04-03 14:23:43 , https://vk.com/wall-46922041_263 , 0 , 0 , 0\n",
      "2015-04-03 12:08:08 , https://vk.com/wall-46922041_262 , 0 , 0 , 0\n",
      "2015-04-03 10:07:30 , https://vk.com/wall-46922041_261 , 1 , 0 , 0\n",
      "2015-04-02 15:11:22 , https://vk.com/wall-46922041_257 , 0 , 0 , 3\n",
      "2015-04-02 15:04:33 , https://vk.com/wall-46922041_255 , 0 , 0 , 0\n",
      "2015-03-27 16:24:26 , https://vk.com/wall-46922041_249 , 4 , 0 , 0\n",
      "2015-03-26 12:29:02 , https://vk.com/wall-46922041_248 , 3 , 0 , 0\n",
      "2015-03-25 18:02:00 , https://vk.com/wall-46922041_247 , 0 , 0 , 0\n",
      "2015-03-24 14:37:24 , https://vk.com/wall-46922041_246 , 0 , 0 , 0\n",
      "2015-03-23 18:00:29 , https://vk.com/wall-46922041_243 , 0 , 0 , 0\n",
      "2015-03-23 16:43:56 , https://vk.com/wall-46922041_242 , 3 , 0 , 1\n",
      "2015-03-21 10:46:19 , https://vk.com/wall-46922041_241 , 5 , 0 , 0\n",
      "2015-03-20 11:35:47 , https://vk.com/wall-46922041_240 , 2 , 0 , 0\n",
      "2015-03-18 11:53:37 , https://vk.com/wall-46922041_238 , 1 , 0 , 1\n",
      "2015-03-17 15:22:09 , https://vk.com/wall-46922041_237 , 0 , 0 , 0\n",
      "2015-03-14 13:36:01 , https://vk.com/wall-46922041_232 , 0 , 0 , 4\n",
      "2015-03-11 09:33:27 , https://vk.com/wall-46922041_230 , 3 , 0 , 0\n",
      "2015-03-03 20:35:31 , https://vk.com/wall-46922041_229 , 1 , 0 , 0\n",
      "2015-03-02 20:00:00 , https://vk.com/wall-46922041_228 , 0 , 0 , 0\n",
      "2015-02-18 17:38:36 , https://vk.com/wall-46922041_226 , 1 , 0 , 0\n",
      "2015-02-17 13:13:45 , https://vk.com/wall-46922041_223 , 0 , 0 , 2\n",
      "2015-02-11 17:06:36 , https://vk.com/wall-46922041_222 , 1 , 0 , 0\n",
      "2015-02-11 09:57:14 , https://vk.com/wall-46922041_221 , 1 , 0 , 0\n",
      "2015-02-10 16:49:47 , https://vk.com/wall-46922041_220 , 0 , 0 , 0\n",
      "2015-02-09 12:00:23 , https://vk.com/wall-46922041_219 , 0 , 0 , 0\n",
      "2015-02-06 17:50:12 , https://vk.com/wall-46922041_218 , 4 , 1 , 0\n",
      "2015-02-06 15:48:02 , https://vk.com/wall-46922041_217 , 3 , 1 , 0\n",
      "2015-02-06 01:11:29 , https://vk.com/wall-46922041_215 , 0 , 0 , 0\n",
      "2015-02-04 16:09:15 , https://vk.com/wall-46922041_213 , 2 , 0 , 0\n",
      "2015-02-02 18:30:32 , https://vk.com/wall-46922041_212 , 1 , 0 , 0\n",
      "2015-01-22 16:41:00 , https://vk.com/wall-46922041_210 , 8 , 5 , 0\n",
      "2015-01-20 12:13:39 , https://vk.com/wall-46922041_204 , 0 , 0 , 0\n",
      "2015-01-19 11:17:32 , https://vk.com/wall-46922041_202 , 5 , 1 , 0\n",
      "2015-01-16 13:08:54 , https://vk.com/wall-46922041_201 , 0 , 0 , 0\n",
      "2015-01-14 15:27:08 , https://vk.com/wall-46922041_198 , 1 , 1 , 0\n",
      "2015-01-13 17:56:19 , https://vk.com/wall-46922041_197 , 0 , 0 , 8\n",
      "2015-01-12 12:14:22 , https://vk.com/wall-46922041_196 , 0 , 0 , 0\n",
      "2014-12-30 18:34:00 , https://vk.com/wall-46922041_195 , 0 , 0 , 0\n",
      "2014-12-18 13:06:25 , https://vk.com/wall-46922041_194 , 4 , 1 , 0\n",
      "2014-12-10 12:14:10 , https://vk.com/wall-46922041_193 , 1 , 0 , 0\n",
      "2014-12-09 19:09:30 , https://vk.com/wall-46922041_192 , 1 , 0 , 0\n",
      "2014-12-04 16:37:28 , https://vk.com/wall-46922041_191 , 0 , 1 , 0\n",
      "2014-12-01 12:56:52 , https://vk.com/wall-46922041_190 , 0 , 0 , 0\n",
      "2014-11-28 15:47:35 , https://vk.com/wall-46922041_189 , 0 , 0 , 0\n",
      "2014-11-14 15:38:40 , https://vk.com/wall-46922041_188 , 0 , 0 , 0\n",
      "2014-11-14 13:27:08 , https://vk.com/wall-46922041_187 , 0 , 0 , 0\n",
      "2014-11-07 10:07:34 , https://vk.com/wall-46922041_186 , 0 , 1 , 0\n",
      "2014-11-06 11:56:20 , https://vk.com/wall-46922041_185 , 2 , 2 , 0\n",
      "2014-11-05 12:22:57 , https://vk.com/wall-46922041_184 , 0 , 0 , 0\n",
      "2014-10-30 11:53:35 , https://vk.com/wall-46922041_183 , 0 , 0 , 0\n",
      "2014-10-27 15:13:22 , https://vk.com/wall-46922041_182 , 0 , 0 , 0\n",
      "2014-10-20 10:57:56 , https://vk.com/wall-46922041_181 , 0 , 0 , 0\n",
      "2014-10-09 16:35:40 , https://vk.com/wall-46922041_179 , 0 , 0 , 0\n",
      "2014-10-09 10:34:46 , https://vk.com/wall-46922041_178 , 0 , 0 , 0\n",
      "2014-10-03 15:53:35 , https://vk.com/wall-46922041_177 , 0 , 0 , 0\n",
      "2014-10-02 13:09:38 , https://vk.com/wall-46922041_176 , 0 , 0 , 0\n",
      "2014-09-30 09:08:57 , https://vk.com/wall-46922041_175 , 2 , 0 , 0\n",
      "2014-09-29 10:44:14 , https://vk.com/wall-46922041_174 , 1 , 0 , 0\n",
      "2014-09-24 11:25:28 , https://vk.com/wall-46922041_173 , 0 , 0 , 0\n",
      "2014-09-04 09:02:56 , https://vk.com/wall-46922041_172 , 0 , 0 , 0\n",
      "2014-09-04 08:51:11 , https://vk.com/wall-46922041_171 , 1 , 0 , 0\n",
      "2014-09-03 10:52:41 , https://vk.com/wall-46922041_170 , 0 , 0 , 0\n",
      "2014-08-26 15:31:14 , https://vk.com/wall-46922041_169 , 0 , 0 , 0\n",
      "2014-08-26 11:39:56 , https://vk.com/wall-46922041_168 , 0 , 0 , 0\n",
      "2014-08-25 15:06:42 , https://vk.com/wall-46922041_167 , 0 , 0 , 0\n",
      "2014-08-19 15:36:48 , https://vk.com/wall-46922041_166 , 3 , 1 , 0\n",
      "2014-08-14 16:39:13 , https://vk.com/wall-46922041_165 , 0 , 0 , 0\n",
      "2014-08-12 11:35:29 , https://vk.com/wall-46922041_164 , 0 , 0 , 0\n",
      "2014-08-05 09:55:38 , https://vk.com/wall-46922041_163 , 1 , 0 , 0\n",
      "2014-07-16 16:47:11 , https://vk.com/wall-46922041_160 , 3 , 2 , 1\n",
      "2014-07-16 13:32:43 , https://vk.com/wall-46922041_159 , 0 , 0 , 0\n",
      "2014-07-08 16:10:30 , https://vk.com/wall-46922041_158 , 0 , 0 , 0\n",
      "2014-07-04 08:36:48 , https://vk.com/wall-46922041_157 , 1 , 0 , 0\n",
      "2014-07-03 16:52:11 , https://vk.com/wall-46922041_155 , 1 , 2 , 0\n",
      "2014-07-02 16:56:21 , https://vk.com/wall-46922041_154 , 0 , 0 , 0\n",
      "2014-06-25 15:29:28 , https://vk.com/wall-46922041_153 , 1 , 1 , 0\n",
      "2014-06-20 15:45:19 , https://vk.com/wall-46922041_152 , 0 , 0 , 0\n",
      "2014-06-18 14:13:21 , https://vk.com/wall-46922041_151 , 0 , 0 , 0\n",
      "2014-06-16 13:10:48 , https://vk.com/wall-46922041_150 , 1 , 1 , 0\n",
      "2014-06-11 11:47:21 , https://vk.com/wall-46922041_149 , 3 , 3 , 0\n",
      "2014-06-11 09:27:33 , https://vk.com/wall-46922041_147 , 0 , 0 , 0\n",
      "2014-06-06 13:42:11 , https://vk.com/wall-46922041_146 , 1 , 0 , 0\n",
      "2014-06-04 18:04:54 , https://vk.com/wall-46922041_145 , 0 , 0 , 0\n",
      "2014-06-04 17:11:12 , https://vk.com/wall-46922041_144 , 0 , 0 , 0\n",
      "2014-06-04 14:18:00 , https://vk.com/wall-46922041_143 , 0 , 0 , 0\n",
      "2014-05-29 10:56:36 , https://vk.com/wall-46922041_142 , 2 , 2 , 0\n",
      "2014-05-26 13:43:00 , https://vk.com/wall-46922041_141 , 1 , 0 , 0\n",
      "2014-05-23 10:27:06 , https://vk.com/wall-46922041_140 , 1 , 0 , 0\n",
      "2014-05-19 17:07:47 , https://vk.com/wall-46922041_139 , 1 , 0 , 0\n",
      "2014-05-19 15:06:55 , https://vk.com/wall-46922041_138 , 1 , 1 , 0\n",
      "2014-04-28 19:37:04 , https://vk.com/wall-46922041_136 , 0 , 0 , 0\n",
      "2014-04-23 19:46:56 , https://vk.com/wall-46922041_135 , 0 , 0 , 0\n",
      "2014-04-10 16:04:00 , https://vk.com/wall-46922041_134 , 1 , 1 , 0\n",
      "2014-04-02 17:40:31 , https://vk.com/wall-46922041_133 , 1 , 1 , 0\n",
      "2014-04-02 11:37:43 , https://vk.com/wall-46922041_132 , 2 , 2 , 0\n",
      "2014-03-31 15:15:38 , https://vk.com/wall-46922041_131 , 2 , 1 , 0\n",
      "2014-03-31 15:14:43 , https://vk.com/wall-46922041_130 , 10 , 5 , 0\n",
      "2014-03-26 22:49:34 , https://vk.com/wall-46922041_129 , 1 , 1 , 0\n",
      "2014-03-24 15:10:57 , https://vk.com/wall-46922041_128 , 1 , 1 , 0\n",
      "2014-03-20 13:57:20 , https://vk.com/wall-46922041_127 , 0 , 0 , 0\n",
      "2014-03-20 11:17:28 , https://vk.com/wall-46922041_125 , 0 , 0 , 0\n",
      "2014-03-17 15:22:27 , https://vk.com/wall-46922041_124 , 2 , 0 , 0\n",
      "2014-03-07 17:36:55 , https://vk.com/wall-46922041_123 , 0 , 0 , 0\n",
      "2014-02-25 17:10:44 , https://vk.com/wall-46922041_122 , 2 , 1 , 0\n",
      "2014-02-21 10:10:44 , https://vk.com/wall-46922041_121 , 2 , 1 , 0\n",
      "2014-02-10 17:13:21 , https://vk.com/wall-46922041_120 , 0 , 0 , 0\n",
      "2014-02-10 16:00:32 , https://vk.com/wall-46922041_118 , 0 , 0 , 0\n",
      "2014-02-05 11:25:56 , https://vk.com/wall-46922041_115 , 1 , 1 , 0\n",
      "2014-01-28 17:01:50 , https://vk.com/wall-46922041_114 , 0 , 0 , 0\n",
      "2014-01-17 17:00:33 , https://vk.com/wall-46922041_113 , 0 , 0 , 0\n",
      "2014-01-10 19:40:41 , https://vk.com/wall-46922041_112 , 1 , 1 , 0\n",
      "2013-12-30 15:40:36 , https://vk.com/wall-46922041_111 , 0 , 0 , 0\n",
      "2013-12-27 09:47:37 , https://vk.com/wall-46922041_110 , 1 , 0 , 0\n",
      "2013-12-25 14:18:41 , https://vk.com/wall-46922041_109 , 1 , 1 , 0\n",
      "2013-11-26 11:21:14 , https://vk.com/wall-46922041_108 , 1 , 0 , 0\n",
      "2013-11-14 16:51:05 , https://vk.com/wall-46922041_107 , 1 , 1 , 0\n",
      "2013-11-06 17:44:45 , https://vk.com/wall-46922041_106 , 0 , 0 , 0\n",
      "2013-10-25 16:45:27 , https://vk.com/wall-46922041_105 , 2 , 1 , 0\n",
      "2013-10-24 17:26:56 , https://vk.com/wall-46922041_104 , 0 , 0 , 0\n",
      "2013-10-10 20:32:19 , https://vk.com/wall-46922041_103 , 1 , 1 , 0\n",
      "2013-10-03 21:13:34 , https://vk.com/wall-46922041_102 , 2 , 1 , 0\n",
      "2013-09-20 09:13:05 , https://vk.com/wall-46922041_101 , 1 , 1 , 0\n",
      "2013-09-13 17:45:26 , https://vk.com/wall-46922041_100 , 4 , 1 , 0\n",
      "2013-09-13 11:14:31 , https://vk.com/wall-46922041_99 , 1 , 1 , 0\n",
      "2013-09-11 19:41:43 , https://vk.com/wall-46922041_98 , 1 , 1 , 0\n",
      "2013-09-10 14:48:12 , https://vk.com/wall-46922041_97 , 3 , 1 , 0\n",
      "2013-09-09 12:17:16 , https://vk.com/wall-46922041_96 , 0 , 0 , 0\n",
      "2013-09-03 17:06:42 , https://vk.com/wall-46922041_95 , 0 , 0 , 0\n",
      "2013-08-20 17:55:15 , https://vk.com/wall-46922041_94 , 0 , 0 , 0\n",
      "2013-08-20 17:53:00 , https://vk.com/wall-46922041_93 , 0 , 0 , 0\n",
      "2013-07-25 17:21:24 , https://vk.com/wall-46922041_92 , 0 , 0 , 0\n",
      "2013-07-24 12:15:36 , https://vk.com/wall-46922041_91 , 0 , 0 , 0\n",
      "2013-07-10 10:44:08 , https://vk.com/wall-46922041_90 , 0 , 0 , 0\n",
      "2013-07-04 12:29:15 , https://vk.com/wall-46922041_89 , 2 , 1 , 0\n",
      "2013-06-27 17:45:33 , https://vk.com/wall-46922041_88 , 3 , 1 , 0\n",
      "2013-06-20 09:45:54 , https://vk.com/wall-46922041_87 , 2 , 1 , 0\n",
      "2013-06-11 12:57:21 , https://vk.com/wall-46922041_86 , 2 , 1 , 0\n",
      "2013-06-05 18:35:16 , https://vk.com/wall-46922041_84 , 2 , 2 , 0\n",
      "2013-06-05 08:24:12 , https://vk.com/wall-46922041_81 , 2 , 2 , 0\n",
      "2013-05-30 08:31:40 , https://vk.com/wall-46922041_80 , 0 , 0 , 0\n",
      "2013-05-29 15:20:10 , https://vk.com/wall-46922041_78 , 1 , 1 , 1\n",
      "2013-05-21 16:00:44 , https://vk.com/wall-46922041_77 , 1 , 1 , 0\n",
      "2013-05-20 08:27:16 , https://vk.com/wall-46922041_76 , 0 , 0 , 0\n",
      "2013-04-30 16:15:05 , https://vk.com/wall-46922041_75 , 1 , 1 , 0\n",
      "2013-04-30 15:53:23 , https://vk.com/wall-46922041_74 , 0 , 0 , 0\n",
      "2013-04-17 15:04:41 , https://vk.com/wall-46922041_73 , 2 , 1 , 0\n",
      "2013-04-09 17:35:14 , https://vk.com/wall-46922041_72 , 1 , 0 , 0\n",
      "2013-04-05 17:57:45 , https://vk.com/wall-46922041_71 , 0 , 0 , 0\n",
      "2013-04-04 17:45:08 , https://vk.com/wall-46922041_63 , 0 , 0 , 7\n",
      "2013-04-04 16:56:49 , https://vk.com/wall-46922041_62 , 1 , 3 , 0\n",
      "2013-03-22 20:57:13 , https://vk.com/wall-46922041_61 , 2 , 2 , 0\n",
      "2013-03-20 16:32:33 , https://vk.com/wall-46922041_60 , 4 , 2 , 0\n",
      "2013-03-15 17:48:38 , https://vk.com/wall-46922041_59 , 3 , 3 , 0\n",
      "2013-03-15 15:47:37 , https://vk.com/wall-46922041_58 , 2 , 2 , 0\n",
      "2013-03-14 17:55:50 , https://vk.com/wall-46922041_57 , 0 , 0 , 0\n",
      "2013-03-07 17:02:53 , https://vk.com/wall-46922041_56 , 0 , 0 , 0\n",
      "2013-03-07 11:51:41 , https://vk.com/wall-46922041_55 , 5 , 4 , 0\n",
      "2013-03-06 16:26:01 , https://vk.com/wall-46922041_54 , 4 , 2 , 0\n",
      "2013-03-01 17:28:21 , https://vk.com/wall-46922041_53 , 15 , 3 , 0\n",
      "2013-03-01 17:14:43 , https://vk.com/wall-46922041_52 , 0 , 0 , 0\n",
      "2013-02-26 17:34:39 , https://vk.com/wall-46922041_51 , 1 , 1 , 0\n",
      "2013-02-22 16:12:26 , https://vk.com/wall-46922041_50 , 2 , 2 , 0\n",
      "2013-02-22 14:51:00 , https://vk.com/wall-46922041_49 , 15 , 4 , 0\n",
      "2013-02-15 17:01:21 , https://vk.com/wall-46922041_48 , 10 , 3 , 0\n",
      "2013-02-15 16:46:12 , https://vk.com/wall-46922041_47 , 1 , 1 , 0\n",
      "2013-02-15 14:55:08 , https://vk.com/wall-46922041_45 , 10 , 5 , 1\n",
      "2013-02-14 17:38:48 , https://vk.com/wall-46922041_43 , 10 , 3 , 0\n",
      "2013-02-12 17:01:28 , https://vk.com/wall-46922041_42 , 7 , 3 , 0\n",
      "2013-02-11 16:19:12 , https://vk.com/wall-46922041_41 , 11 , 3 , 0\n",
      "2013-02-11 09:27:51 , https://vk.com/wall-46922041_40 , 0 , 0 , 0\n",
      "2013-02-10 23:48:26 , https://vk.com/wall-46922041_39 , 0 , 0 , 0\n",
      "2013-02-08 17:08:25 , https://vk.com/wall-46922041_38 , 18 , 5 , 0\n",
      "2013-02-07 16:34:52 , https://vk.com/wall-46922041_37 , 0 , 0 , 0\n",
      "2013-02-01 17:24:41 , https://vk.com/wall-46922041_35 , 12 , 2 , 1\n",
      "2013-01-28 11:33:39 , https://vk.com/wall-46922041_34 , 13 , 3 , 0\n",
      "2013-01-25 18:00:32 , https://vk.com/wall-46922041_33 , 9 , 3 , 0\n",
      "2013-01-24 17:00:20 , https://vk.com/wall-46922041_32 , 10 , 4 , 0\n",
      "2013-01-18 17:28:04 , https://vk.com/wall-46922041_31 , 9 , 2 , 0\n",
      "2013-01-17 17:08:08 , https://vk.com/wall-46922041_30 , 0 , 0 , 0\n",
      "2013-01-16 15:41:56 , https://vk.com/wall-46922041_29 , 8 , 2 , 0\n",
      "2013-01-15 15:24:09 , https://vk.com/wall-46922041_28 , 0 , 0 , 0\n",
      "2013-01-14 16:09:18 , https://vk.com/wall-46922041_27 , 16 , 3 , 0\n",
      "2013-01-09 08:33:43 , https://vk.com/wall-46922041_26 , 1 , 1 , 0\n",
      "2012-12-29 16:07:04 , https://vk.com/wall-46922041_25 , 8 , 3 , 0\n",
      "2012-12-29 15:37:55 , https://vk.com/wall-46922041_24 , 0 , 0 , 0\n",
      "2012-12-29 14:20:17 , https://vk.com/wall-46922041_23 , 0 , 0 , 0\n",
      "2012-12-28 10:36:29 , https://vk.com/wall-46922041_22 , 8 , 2 , 0\n",
      "2012-12-27 18:27:33 , https://vk.com/wall-46922041_21 , 0 , 0 , 0\n",
      "2012-12-27 11:47:21 , https://vk.com/wall-46922041_19 , 0 , 0 , 0\n",
      "2012-12-27 08:28:33 , https://vk.com/wall-46922041_18 , 1 , 0 , 0\n",
      "2012-12-25 16:52:09 , https://vk.com/wall-46922041_17 , 1 , 0 , 0\n",
      "2012-12-24 09:45:38 , https://vk.com/wall-46922041_16 , 1 , 1 , 0\n",
      "2012-12-21 17:35:25 , https://vk.com/wall-46922041_15 , 2 , 1 , 0\n",
      "2012-12-21 16:56:33 , https://vk.com/wall-46922041_14 , 1 , 1 , 0\n",
      "2012-12-20 17:32:08 , https://vk.com/wall-46922041_13 , 0 , 0 , 0\n",
      "2012-12-20 11:17:00 , https://vk.com/wall-46922041_12 , 0 , 0 , 0\n",
      "2012-12-20 10:51:12 , https://vk.com/wall-46922041_11 , 0 , 0 , 0\n",
      "2012-12-18 15:48:04 , https://vk.com/wall-46922041_7 , 11 , 3 , 2\n",
      "2012-12-17 18:15:14 , https://vk.com/wall-46922041_6 , 4 , 2 , 0\n",
      "2012-12-14 11:21:46 , https://vk.com/wall-46922041_4 , 0 , 0 , 0\n",
      "2012-12-13 14:45:37 , https://vk.com/wall-46922041_3 , 1 , 0 , 0\n",
      "2012-12-13 14:44:41 , https://vk.com/wall-46922041_2 , 0 , 0 , 0\n",
      "2012-12-13 14:43:04 , https://vk.com/wall-46922041_1 , 1 , 0 , 0\n"
     ]
    },
    {
     "ename": "IndexError",
     "evalue": "list index out of range",
     "output_type": "error",
     "traceback": [
      "\u001b[1;31m---------------------------------------------------------------------------\u001b[0m",
      "\u001b[1;31mIndexError\u001b[0m                                Traceback (most recent call last)",
      "\u001b[1;32m<ipython-input-7-46ab1a4e8f04>\u001b[0m in \u001b[0;36m<module>\u001b[1;34m()\u001b[0m\n\u001b[0;32m     24\u001b[0m     \u001b[1;32mfor\u001b[0m \u001b[0mi\u001b[0m \u001b[1;32min\u001b[0m \u001b[0mrange\u001b[0m\u001b[1;33m(\u001b[0m\u001b[1;36m1\u001b[0m\u001b[1;33m,\u001b[0m\u001b[1;36m101\u001b[0m\u001b[1;33m)\u001b[0m\u001b[1;33m:\u001b[0m\u001b[1;33m\u001b[0m\u001b[0m\n\u001b[0;32m     25\u001b[0m         post_date =  datetime.datetime.fromtimestamp( #функция преобразования\n\u001b[1;32m---> 26\u001b[1;33m                 \u001b[0mint\u001b[0m\u001b[1;33m(\u001b[0m\u001b[0mresponse\u001b[0m\u001b[1;33m[\u001b[0m\u001b[1;34m'response'\u001b[0m\u001b[1;33m]\u001b[0m\u001b[1;33m[\u001b[0m\u001b[0mi\u001b[0m\u001b[1;33m]\u001b[0m\u001b[1;33m[\u001b[0m\u001b[1;34m'date'\u001b[0m\u001b[1;33m]\u001b[0m\u001b[1;33m)\u001b[0m\u001b[1;33m\u001b[0m\u001b[0m\n\u001b[0m\u001b[0;32m     27\u001b[0m                 ).strftime('%Y-%m-%d %H:%M:%S') #фортма преобразования Год-Месяц Час-Минута-Секунда   \n\u001b[0;32m     28\u001b[0m         \u001b[0mcomments_count\u001b[0m \u001b[1;33m=\u001b[0m \u001b[0mresponse\u001b[0m\u001b[1;33m[\u001b[0m\u001b[1;34m'response'\u001b[0m\u001b[1;33m]\u001b[0m\u001b[1;33m[\u001b[0m\u001b[0mi\u001b[0m\u001b[1;33m]\u001b[0m\u001b[1;33m[\u001b[0m\u001b[1;34m'comments'\u001b[0m\u001b[1;33m]\u001b[0m\u001b[1;33m[\u001b[0m\u001b[1;34m'count'\u001b[0m\u001b[1;33m]\u001b[0m \u001b[1;31m#количество комментариев\u001b[0m\u001b[1;33m\u001b[0m\u001b[0m\n",
      "\u001b[1;31mIndexError\u001b[0m: list index out of range"
     ]
    }
   ],
   "source": [
    "import requests\n",
    "import datetime #импортируем пакеты\n",
    "import time #импортируем пакеты\n",
    "\n",
    "group_id = -46922041 #ID сообществ нужно писать с минусом, профиля - без\n",
    "count = 100 #количество постов, получаемых за 1 запрос\n",
    "offset = 0 #начальное смещение\n",
    "\n",
    "#Узнаем сколько постов в сообществе\n",
    "\n",
    "r = requests.get('https://api.vk.com/method/wall.get',params={'owner_id':group_id,\n",
    "                                                              'count':0})\n",
    "response = r.json()\n",
    "post_count = response['response'][0] #количество постов в группе или профиле\n",
    "print('Количество постов в сообществе:',post_count)\n",
    "\n",
    "print('Дата публикации',',','Ссылка',',','Количество лайков',',','Количество репостов',',','Количество комментариев')\n",
    "\n",
    "while offset < post_count:\n",
    "    r = requests.get('https://api.vk.com/method/wall.get',params={'owner_id':group_id,'count':count, 'offset':offset})\n",
    "    response = r.json()\n",
    "\n",
    "    #запускаем цикл для обработки ответа\n",
    "    for i in range(1,101):\n",
    "        post_date =  datetime.datetime.fromtimestamp( #функция преобразования\n",
    "                int(response['response'][i]['date'])\n",
    "                ).strftime('%Y-%m-%d %H:%M:%S') #фортма преобразования Год-Месяц Час-Минута-Секунда   \n",
    "        comments_count = response['response'][i]['comments']['count'] #количество комментариев\n",
    "        post_id = response['response'][i]['id'] #id поста в сообществе\n",
    "        group_id = response['response'][i]['to_id'] #id сообщества . В версиях API ниже 5.7 вместо поля owner_id приходит to_id.\n",
    "        likes_count = response['response'][i]['likes']['count'] #количество лайков\n",
    "        repost_count = response['response'][i]['reposts']['count']  #количество репостов\n",
    "        print(post_date,',','https://vk.com/wall'+str(group_id)+'_'+str(post_id),',', \n",
    "              likes_count,',',repost_count,',',comments_count)\n",
    "    offset = offset + 100"
   ]
  },
  {
   "cell_type": "markdown",
   "metadata": {},
   "source": [
    "Давайте подведём итог 4 и 5 уроков.\n",
    "\n",
    "**Чему мы научились:**\n",
    "1. обрабатывать ответ от ВКонтакте так, как нужно нам!\n",
    "2. запускать цикл в цикле для получения множества объектов (смещение по **offset**, а затем:обработка ответа)\n",
    "3. преобразовывать дату из unix-формата в тот, который нужен нам\n",
    "\n",
    "Таким образом мы написали универсальный скрипт для анализа любого открытого профиля и сообщества, из которых мы можем получить список всех публикаций с данными о каждой публикации:\n",
    "* дата публикации\n",
    "* количество \"Мне нравится\"\n",
    "* количество \"Рассказать друзьям\"\n",
    "* Количество комментариев\n",
    "\n",
    "### Домашнее задание к 4 и 5 уроку\n",
    "> Получить **дату публикации** и **автора** из конкретного обсуждения. Возьмём для примера https://vk.com/topic-38369814_28008826\n",
    "\n",
    "Ответы и вопросы по домашке публикуйте здесь - https://vk.com/topic-38369814_33529150 "
   ]
  },
  {
   "cell_type": "markdown",
   "metadata": {},
   "source": [
    "# Урок 6: Как сделать автолайкер ВКонтакте"
   ]
  },
  {
   "cell_type": "code",
   "execution_count": null,
   "metadata": {
    "collapsed": true
   },
   "outputs": [],
   "source": []
  }
 ],
 "metadata": {
  "kernelspec": {
   "display_name": "Python 3",
   "language": "python",
   "name": "python3"
  },
  "language_info": {
   "codemirror_mode": {
    "name": "ipython",
    "version": 3
   },
   "file_extension": ".py",
   "mimetype": "text/x-python",
   "name": "python",
   "nbconvert_exporter": "python",
   "pygments_lexer": "ipython3",
   "version": "3.5.1"
  }
 },
 "nbformat": 4,
 "nbformat_minor": 0
}
