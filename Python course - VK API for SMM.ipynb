{
 "cells": [
  {
   "cell_type": "markdown",
   "metadata": {},
   "source": [
    "**Автор:** Сергей Шмаков\n",
    "\n",
    "**Обновление этого документа** и не только публикуется на канале в Телеграм - https://telegram.me/smm_python\n",
    "\n",
    "Другие мои площадки:\n",
    "* ВКонтакте - https://vk.com/smmblog\n",
    "* Youtube - https://youtube.com/smmblog\n",
    "* Блог - http://freesmm.ru\n"
   ]
  },
  {
   "cell_type": "markdown",
   "metadata": {},
   "source": [
    "# Урок 1: Установка Python"
   ]
  },
  {
   "cell_type": "markdown",
   "metadata": {},
   "source": [
    "**запустите код ниже**"
   ]
  },
  {
   "cell_type": "code",
   "execution_count": 37,
   "metadata": {
    "collapsed": false
   },
   "outputs": [
    {
     "data": {
      "text/html": [
       "\n",
       "        <iframe\n",
       "            width=\"400\"\n",
       "            height=\"300\"\n",
       "            src=\"https://www.youtube.com/embed/ijvHJRKg8WU\"\n",
       "            frameborder=\"0\"\n",
       "            allowfullscreen\n",
       "        ></iframe>\n",
       "        "
      ],
      "text/plain": [
       "<IPython.lib.display.YouTubeVideo at 0xd374e2cb00>"
      ]
     },
     "execution_count": 37,
     "metadata": {},
     "output_type": "execute_result"
    }
   ],
   "source": [
    "from IPython.display import YouTubeVideo\n",
    "YouTubeVideo(\"ijvHJRKg8WU\")"
   ]
  },
  {
   "cell_type": "markdown",
   "metadata": {},
   "source": [
    "**Описание в блоге** - http://freesmm.ru/smm-help/api/vk-1/\n",
    "Как установить Python\n",
    "\n",
    "## Вариант 1 — не самый подходящий для нас\n",
    "\n",
    "Скачать с официального сайта — https://www.python.org/\n",
    "\n",
    "## Вариант 2 — тот что будем использовать\n",
    "\n",
    "Установить https://www.continuum.io/downloads\n",
    "\n",
    "Установка:\n",
    "\n",
    "1. Скачать версию для Python 3.5\n",
    "2. Установить\n",
    "3. После установки в панели программ у вас должен появиться Jupiter NoteBook, если нет, то нужно будет через Launcher установить\n",
    "4. Запустить Jupiter Notebook\n",
    "5. Создать новый Python-файл\n",
    "6. Написать код (на этом пока остановимся)\n",
    "\n",
    "\n",
    "## Вариант 3 — сложнее, но будет тоже востребован\n",
    "\n",
    "Установить PyCharm Community  — https://www.jetbrains.com/pycharm/download/#section=windows"
   ]
  },
  {
   "cell_type": "code",
   "execution_count": 2,
   "metadata": {
    "collapsed": false
   },
   "outputs": [
    {
     "name": "stdout",
     "output_type": "stream",
     "text": [
      "Sergey Shmakov\n"
     ]
    }
   ],
   "source": [
    "#Это поле для кода. # решёткой обозначают комментарии. Выберите это поле и нажмите на плей\n",
    "\n",
    "first_name = \"Sergey\" #переменная, которой присвоено значение с типом данных \"Строка\"\n",
    "last_name = \"Shmakov\"\n",
    "print(first_name, last_name) #функция вывода на экран \n"
   ]
  },
  {
   "cell_type": "markdown",
   "metadata": {},
   "source": [
    "# Урок 2: Как отправить запрос к ВКонтакте и получить ответ"
   ]
  },
  {
   "cell_type": "code",
   "execution_count": 38,
   "metadata": {
    "collapsed": false
   },
   "outputs": [
    {
     "data": {
      "text/html": [
       "\n",
       "        <iframe\n",
       "            width=\"400\"\n",
       "            height=\"300\"\n",
       "            src=\"https://www.youtube.com/embed/jiRmCOFGD2A\"\n",
       "            frameborder=\"0\"\n",
       "            allowfullscreen\n",
       "        ></iframe>\n",
       "        "
      ],
      "text/plain": [
       "<IPython.lib.display.YouTubeVideo at 0xd374e2c588>"
      ]
     },
     "execution_count": 38,
     "metadata": {},
     "output_type": "execute_result"
    }
   ],
   "source": [
    "from IPython.display import YouTubeVideo\n",
    "YouTubeVideo(\"jiRmCOFGD2A\")"
   ]
  },
  {
   "cell_type": "markdown",
   "metadata": {},
   "source": [
    "Описание в блоге http://freesmm.ru/smm-help/api/vk-2/\n",
    "\n",
    "В примере ниже, мы импортируем пакет **requests**, который уже установлен в дистрибутив Anaconda (https://www.continuum.io/downloads). Requests (http://docs.python-requests.org/en/master/) наиболее часто используемый пакет в Python. \n",
    "\n",
    "Перед тем как запустить код ниже, ознакомьтесь с этими материлами:\n",
    "\n",
    "* Синтаксис — http://pythonworld.ru/osnovy/sintaksis-yazyka-python.html\n",
    "* Переменные и типы данных — https://rtfm.co.ua/python-izuchenie-s-nulya-sintaksis/\n",
    "* Типы данных — http://pythonworld.ru/tipy-dannyx-v-python\n",
    "* Списки — http://pythonworld.ru/tipy-dannyx-v-python/spiski-list-funkcii-i-metody-spiskov.html\n",
    "* Словари — http://pythonworld.ru/tipy-dannyx-v-python/slovari-dict-funkcii-i-metody-slovarej.html\n",
    "* Модули - http://pythonworld.ru/osnovy/rabota-s-modulyami-sozdanie-podklyuchenie-instrukciyami-import-i-from.html\n",
    "\n",
    "### Задача: получить основную информацию о пользователе по ID\n",
    "Для решения этой задачи нам потребуется использоваться метод **https://vk.com/dev/users.get**. Он возвращает расширенную информацию о пользователях. \n",
    "\n",
    "* Если передать только id, то ВК вернёт только основную информацию\n",
    "* Если будет заполнено поле fields, то указывая нужно поле, будет возвращена дополнительная информация\n",
    "\n",
    "К основной инфорамции пользователя ВКонтакте относится:\n",
    "* ID пользователя\n",
    "* Имя\n",
    "* Фамилия\n",
    "\n",
    "**Запустите код ниже**"
   ]
  },
  {
   "cell_type": "code",
   "execution_count": 39,
   "metadata": {
    "collapsed": false
   },
   "outputs": [
    {
     "name": "stdout",
     "output_type": "stream",
     "text": [
      "{'response': [{'uid': 928041, 'last_name': 'Шмаков', 'first_name': 'Сергей'}]}\n"
     ]
    }
   ],
   "source": [
    "import requests\n",
    "r = requests.get('https://api.vk.com/method/users.get',params={'user_ids': 928041})\n",
    "print(r.json())"
   ]
  },
  {
   "cell_type": "markdown",
   "metadata": {},
   "source": [
    "**Усложним задачу**. \n",
    "> Давайте предположим, что нам нужно получить **количество подписчиков** указанного пользователя\n",
    "\n",
    "Чтобы получить расширенную информацию нужно добавить к параметрам **fields** и список полей, которые нужно получить. Полный список полей:\n",
    "<pre>photo_id, verified, sex, bdate, city, country, home_town, has_photo, photo_50, photo_100, photo_200_orig, photo_200, photo_400_orig, photo_max, photo_max_orig, online, lists, domain, has_mobile, contacts, site, education, universities, schools, status, last_seen, followers_count, common_count, occupation, nickname, relatives, relation, personal, connections, exports, wall_comments, activities, interests, music, movies, tv, books, games, about, quotes, can_post, can_see_all_posts, can_see_audio, can_write_private_message, can_send_friend_request, is_favorite, is_hidden_from_feed, timezone, screen_name, maiden_name, crop_photo, is_friend, friend_status, career, military, blacklisted, blacklisted_by_me</pre>\n",
    "\n",
    "Расшифровка полей для объекта user - https://vk.com/dev/fields\n",
    "\n",
    "Количество подписчиков это = **followers_count**\n",
    "\n",
    "**запустите код ниже**"
   ]
  },
  {
   "cell_type": "code",
   "execution_count": 5,
   "metadata": {
    "collapsed": false
   },
   "outputs": [
    {
     "name": "stdout",
     "output_type": "stream",
     "text": [
      "{'response': [{'last_name': 'Шмаков', 'followers_count': 3376, 'first_name': 'Сергей', 'uid': 928041}]}\n"
     ]
    }
   ],
   "source": [
    "import requests\n",
    "r = requests.get('https://api.vk.com/method/users.get',params={'user_ids':928041,'fields':'followers_count'})\n",
    "print(r.json())"
   ]
  },
  {
   "cell_type": "markdown",
   "metadata": {},
   "source": [
    "Если вам нужно получить определенную расширенную информацию, то поля нужно указывать через \",\""
   ]
  },
  {
   "cell_type": "code",
   "execution_count": 6,
   "metadata": {
    "collapsed": false
   },
   "outputs": [
    {
     "name": "stdout",
     "output_type": "stream",
     "text": [
      "{'response': [{'followers_count': 3376, 'online': 1, 'uid': 928041, 'first_name': 'Сергей', 'last_seen': {'platform': 7, 'time': 1461502779}, 'last_name': 'Шмаков'}]}\n"
     ]
    }
   ],
   "source": [
    "import requests\n",
    "r = requests.get('https://api.vk.com/method/users.get',params={'user_ids':928041,\n",
    "                                                               'fields':'followers_count,relation,online,last_seen'})\n",
    "print(r.json())"
   ]
  },
  {
   "cell_type": "markdown",
   "metadata": {},
   "source": [
    "> Задачи для самостоятельного решения\n",
    "* Замените id на свой и получите следующую информацию о своём профиле: пол, год рождения, город, родной город, количество друзей, количество подписчиков\n",
    "* Получить сумму подписчиков и друзей (забегая вперёд, нужно самостоятельно разобраться как работать с python-словарями http://pythonworld.ru/tipy-dannyx-v-python/slovari-dict-funkcii-i-metody-slovarej.html\n",
    "\n",
    "**используйте поле ниже для решения самостоятельных задач**"
   ]
  },
  {
   "cell_type": "code",
   "execution_count": 7,
   "metadata": {
    "collapsed": true
   },
   "outputs": [],
   "source": [
    "#здесь вы можете писать код\n",
    "\n"
   ]
  },
  {
   "cell_type": "markdown",
   "metadata": {},
   "source": [
    "# Урок 3: Как получить информацию о нескольких пользователях (объектах)"
   ]
  },
  {
   "cell_type": "markdown",
   "metadata": {},
   "source": [
    "**запустите код ниже**"
   ]
  },
  {
   "cell_type": "code",
   "execution_count": 40,
   "metadata": {
    "collapsed": false
   },
   "outputs": [
    {
     "data": {
      "text/html": [
       "\n",
       "        <iframe\n",
       "            width=\"400\"\n",
       "            height=\"300\"\n",
       "            src=\"https://www.youtube.com/embed/nvH7y9agij0\"\n",
       "            frameborder=\"0\"\n",
       "            allowfullscreen\n",
       "        ></iframe>\n",
       "        "
      ],
      "text/plain": [
       "<IPython.lib.display.YouTubeVideo at 0xd375281978>"
      ]
     },
     "execution_count": 40,
     "metadata": {},
     "output_type": "execute_result"
    }
   ],
   "source": [
    "from IPython.display import YouTubeVideo\n",
    "YouTubeVideo(\"nvH7y9agij0\")"
   ]
  },
  {
   "cell_type": "markdown",
   "metadata": {},
   "source": [
    "**Описание в блоге** - http://freesmm.ru/smm-help/api/vk-3/\n",
    "\n",
    "Материалы для обучения:\n",
    "\n",
    "* Списки в Python — http://pythonworld.ru/tipy-dannyx-v-python/spiski-list-funkcii-i-metody-spiskov.html\n",
    "* Цикл for в Python — http://pythonworld.ru/osnovy/cikly-for-i-while-operatory-break-i-continue-volshebnoe-slovo-else.html\n",
    "\n",
    "**Задача: **\n",
    "> получить основную информацию о пользователях и количестве их подписчиков\n",
    "\n",
    "Для начала создадим новую переменню user_id и присвоей ей значение 928041 и подставим в параметр запроса эту переменную\n",
    "было\n",
    "```python\n",
    "r = requests.get('https://api.vk.com/method/users.get',params={'user_ids':928041,'fields':'followers_count'})\n",
    "```\n",
    "стало\n",
    "```python\n",
    "r = requests.get('https://api.vk.com/method/users.get',params={'user_ids':user_id,'fields':'followers_count'})\n",
    "```\n",
    "\n",
    "**запустите код ниже**"
   ]
  },
  {
   "cell_type": "code",
   "execution_count": 57,
   "metadata": {
    "collapsed": false
   },
   "outputs": [
    {
     "name": "stdout",
     "output_type": "stream",
     "text": [
      "{'response': [{'last_name': 'Шмаков', 'followers_count': 3378, 'first_name': 'Сергей', 'uid': 928041}]}\n"
     ]
    }
   ],
   "source": [
    "import requests\n",
    "user_id = 928041 #новая переменная\n",
    "#добавляем переменную в параметр запрос\n",
    "r = requests.get('https://api.vk.com/method/users.get',params={'user_ids':user_id,'fields':'followers_count'}) \n",
    "print(r.json())"
   ]
  },
  {
   "cell_type": "markdown",
   "metadata": {},
   "source": [
    "**Задача**:\n",
    "> Получить основную информацию о списке пользователей (1, 928041, 342, 7527275) и количестве их подписчиков\n",
    "\n",
    "## Вариант 1: С помощью цикла for\n",
    "Списки в Python — http://pythonworld.ru/tipy-dannyx-v-python/spiski-list-funkcii-i-metody-spiskov.html\n",
    "\n",
    "1. Создаём список **user_id = [1, 928041, 342, 7527275]**\n",
    "2. С помощью цикла **for** проходим по каждому элементу списка (**i**), то есть в выражение\n",
    "```python\n",
    "requests.get('https://api.vk.com/method/users.get',params={'user_ids':i,'fields':'followers_count'})\n",
    "```\n",
    "на место **i** будет поочередно подставлено значение равное элементу списка: сначала 1, потом 928041, потом 342 и 7527275\n",
    "\n",
    "\n",
    "\n"
   ]
  },
  {
   "cell_type": "code",
   "execution_count": 56,
   "metadata": {
    "collapsed": false
   },
   "outputs": [
    {
     "name": "stdout",
     "output_type": "stream",
     "text": [
      "{'response': [{'last_name': 'Дуров', 'followers_count': 6094536, 'first_name': 'Павел', 'uid': 1}]}\n",
      "{'response': [{'last_name': 'Шмаков', 'followers_count': 3378, 'first_name': 'Сергей', 'uid': 928041}]}\n",
      "{'response': [{'last_name': 'Svetloff', 'hidden': 1, 'followers_count': 989, 'first_name': 'Dmitry', 'uid': 342}]}\n",
      "{'response': [{'last_name': 'Жукова', 'first_name': 'Алла', 'uid': 7527275, 'deactivated': 'deleted'}]}\n"
     ]
    }
   ],
   "source": [
    "import requests\n",
    "user_id = [1, 928041, 342, 7527275]\n",
    "for i in user_id:\n",
    "    r = requests.get('https://api.vk.com/method/users.get',params={'user_ids':i,'fields':'followers_count'})\n",
    "    print(r.json())"
   ]
  },
  {
   "cell_type": "markdown",
   "metadata": {},
   "source": [
    "## Вариант 2: отправляем до 1000 id сразу\n",
    "Вариант 1 демонстрирует возможность работы с помощью циклов. Минус этого варианта в том, что нам нужно отправить ровно столько запросов к ВКонткте, сколько id списке у нас есть. В нашем примере это целых 4 запроса. Запросы лучше всегда эконосить и если есть возможность получить всё и сразу, то этот вариант можно признать лучшим.\n",
    "\n",
    "В документации к методу https://vk.com/dev/users.get указано, что можно разом получить информацию не более чем о **1000** пользователей\n",
    "> у разных методов **разные ограничения**\n",
    "\n",
    "Таким образом, нам нужно преобразовать python-список \n",
    "```python\n",
    "user_id = [1, 928041, 342, 7527275]\n",
    "``` \n",
    "в строку \n",
    "```python\n",
    "user_id = '1, 928041, 342, 7527275'\n",
    "```\n",
    "\n",
    "В этом случае использовать цикл for нам не потребуется\n",
    "\n",
    "**запустите код ниже**"
   ]
  },
  {
   "cell_type": "code",
   "execution_count": 55,
   "metadata": {
    "collapsed": false
   },
   "outputs": [
    {
     "name": "stdout",
     "output_type": "stream",
     "text": [
      "{'response': [{'last_name': 'Дуров', 'followers_count': 6094537, 'first_name': 'Павел', 'uid': 1}, {'last_name': 'Шмаков', 'followers_count': 3378, 'first_name': 'Сергей', 'uid': 928041}, {'last_name': 'Svetloff', 'hidden': 1, 'followers_count': 989, 'first_name': 'Dmitry', 'uid': 342}, {'last_name': 'Жукова', 'first_name': 'Алла', 'uid': 7527275, 'deactivated': 'deleted'}]}\n"
     ]
    }
   ],
   "source": [
    "import requests\n",
    "user_id = '1, 928041, 342, 7527275' #теперь это строка\n",
    "r = requests.get('https://api.vk.com/method/users.get',params={'user_ids':user_id,'fields':'followers_count'})\n",
    "print(r.json())"
   ]
  },
  {
   "cell_type": "markdown",
   "metadata": {},
   "source": [
    "> **Задачи для самостоятельного решения**:\n",
    "* Получить основную информацию о своих друзьях или любого другого пользователя ВК. Нужно составить список друзей используя метод https://vk.com/dev/friends.get\n",
    "\n",
    "**используйте поле ниже для решения самостоятельных задач**"
   ]
  },
  {
   "cell_type": "code",
   "execution_count": 12,
   "metadata": {
    "collapsed": true
   },
   "outputs": [],
   "source": [
    "#поле для решения самостоятельных задач\n",
    "\n"
   ]
  },
  {
   "cell_type": "markdown",
   "metadata": {},
   "source": [
    "# Урок 4: Получить информацию о постах в сообществе ВКонтакте или делаем маленький Popsters"
   ]
  },
  {
   "cell_type": "markdown",
   "metadata": {},
   "source": [
    "**запустите код ниже**"
   ]
  },
  {
   "cell_type": "code",
   "execution_count": 41,
   "metadata": {
    "collapsed": false
   },
   "outputs": [
    {
     "data": {
      "text/html": [
       "\n",
       "        <iframe\n",
       "            width=\"400\"\n",
       "            height=\"300\"\n",
       "            src=\"https://www.youtube.com/embed/3YDhM037BWU\"\n",
       "            frameborder=\"0\"\n",
       "            allowfullscreen\n",
       "        ></iframe>\n",
       "        "
      ],
      "text/plain": [
       "<IPython.lib.display.YouTubeVideo at 0xd375281320>"
      ]
     },
     "execution_count": 41,
     "metadata": {},
     "output_type": "execute_result"
    }
   ],
   "source": [
    "from IPython.display import YouTubeVideo\n",
    "YouTubeVideo(\"3YDhM037BWU\")"
   ]
  },
  {
   "cell_type": "markdown",
   "metadata": {},
   "source": [
    "**Задача: **\n",
    "> Получить всю возможную информацию о постах в сообществе\n",
    "\n",
    "Материалы для изучения:\n",
    "* Модуль  - http://pythonworld.ru/moduli/modul-time.html\n",
    "* Модуль  - http://pythonworld.ru/moduli/modul-datetime.html\n",
    "\n",
    "*Давайте разберёмся с задачей, которая перед нами поставлена.* \n",
    "\n",
    "Вся возможная информация это какая? \n",
    "Отправляемся в раздел для разработчиков в методы https://vk.com/dev/. Нам нужно что-то про \"Стену\" - https://vk.com/dev/wall \n",
    "\n",
    "* wall.get, Возвращает список записей со стены пользователя или сообщества. - https://vk.com/dev/wall.get\n",
    "То, что нужно. Теперь разберёмся как он работает\n",
    "\n",
    "\n",
    "\n",
    "Параметр | Описание | Тип данных\n",
    "--- | --- | ---\n",
    "owner_id | идентификатор пользователя или сообщества, со стены которого необходимо получить записи (по умолчанию — текущий пользователь).*Обратите внимание, идентификатор сообщества в параметре owner_id необходимо указывать со знаком \"-\" — например, owner_id=-1 соответствует идентификатору сообщества ВКонтакте API (club1) | целое число`\n",
    "domain | короткий адрес пользователя или сообщества. | строка\n",
    "offset | смещение, необходимое для выборки определенного подмножества записей.  | положительное число\n",
    "count | количество записей, которое необходимо получить (**но не более 100**). | положительное число\n",
    "filter | определяет, какие типы записей на стене необходимо получить. Возможны следующие значения параметра: <br>suggests — предложенные записи на стене сообщества (доступно только при вызове с передачей **access_token**);<br>postponed — отложенные записи (доступно только при вызове с передачей access_token);<br>owner — записи на стене от ее владельца;<br>others — записи на стене не от ее владельца;all — все записи на стене (owner + others).<br> * Если параметр не задан, то считается, что он равен all*  | строка\n",
    "extended | 1 — будут возвращены три массива **wall**, **profiles** и **groups**. По умолчанию дополнительные поля не возвращаются.  | флаг, может принимать значения 1 или 0\n",
    "fields | список дополнительных полей для профилей и групп, которые необходимо вернуть. См. описание полей объекта user и описание полей объекта group - https://vk.com/dev/fields_groups . Обратите внимание, этот параметр учитывается только при extended=1.  | строка. список слов, разделенных через запятую\n",
    "\n",
    "**Результат**\n",
    "После успешного выполнения возвращает список объектов записей на стене. \n",
    "\n",
    "Если был задан параметр **extended=1**, возвращает отдельно списки объектов записей на стене в поле **items**, пользователей с дополнительными полями **photo** и **online** в поле **profiles**, и сообществ в поле groups.\n",
    "\n",
    "Почитали, увидели, теперь давайте попробуем написать код, чтобы отправить запрос и получить информацию о двух записях в группе (первая просто это закреплённый пост). Для примера я буду работать со своим пабликом http://vk.com/smmblog (id = 38369814 )\n",
    "\n",
    "> **Обязательно** ознакомьтесь с этой информацией https://vk.com/dev/post\n",
    "\n",
    "**запустите код ниже**"
   ]
  },
  {
   "cell_type": "code",
   "execution_count": null,
   "metadata": {
    "collapsed": false,
    "scrolled": true
   },
   "outputs": [],
   "source": [
    "import requests\n",
    "r = requests.get('https://api.vk.com/method/wall.get',params={'owner_id':-38369814,'count':2})\n",
    "r.json()"
   ]
  },
  {
   "cell_type": "markdown",
   "metadata": {},
   "source": [
    "Как видите, информации очень много. Пост или запись может включать себя другие объекты: фото, видео, документы, музыку, другие записи. \n",
    "\n",
    "Давайте обновим задачу, так как информации слишком много и для нас она вся неочень интересна.\n",
    "\n",
    "**Обновление задачи:**\n",
    "> * получить количество лайков, репостов, комментариев у каждой записи с датой публикации"
   ]
  },
  {
   "cell_type": "markdown",
   "metadata": {},
   "source": [
    "Для того, чтобы вытащить нужные нам данные нужно научиться доставать их из Словарей и Списков.\n",
    "Приведу несколько простых примеров для понимания\n",
    "\n",
    "Обращение к объекту списка по его индексу - http://pythonworld.ru/osnovy/indeksy-i-srezy.html"
   ]
  },
  {
   "cell_type": "code",
   "execution_count": 14,
   "metadata": {
    "collapsed": false
   },
   "outputs": [
    {
     "name": "stdout",
     "output_type": "stream",
     "text": [
      "Василий\n",
      "Василий работает в smmplanner\n"
     ]
    }
   ],
   "source": [
    "list= ['Сергей','Василий', 'smmplanner'] #списки всегда в квадратных скобках, а строки в кавычках\n",
    "#Чтобы достать из списка Василия нужно обратиться к 1 элементу списка. Порядок элементов в списке начинается с нуля \"0\"\n",
    "print(list[1]) #Выведит на экран Василий\n",
    "print(list[1],'работает в',list[2]) #Выведит на экран Василий работает в smmplanner"
   ]
  },
  {
   "cell_type": "markdown",
   "metadata": {},
   "source": [
    "Теперь пример для Словаря. \n",
    "Подробнее о Словарях - http://pythonworld.ru/tipy-dannyx-v-python/slovari-dict-funkcii-i-metody-slovarej.html\n",
    "\n",
    "## Задача про склад с мороженным\n",
    "Давайте представим, что у нас есть 2 вида мороженного: Пломбир и Эскимо. Продаются они с разной ценой и в разной валюте. Нужно вывести на экран Тип мороженного, цену, валюту и Остаток на складе . Для Эскимо посчитать стоимость остатка на складе по курсу доллара 1$ = 65 руб"
   ]
  },
  {
   "cell_type": "code",
   "execution_count": 47,
   "metadata": {
    "collapsed": false
   },
   "outputs": [
    {
     "name": "stdout",
     "output_type": "stream",
     "text": [
      "[{'Склад': 10, 'Цена': 256, 'Валюта': 'руб.', 'Тип': 'Пломбир'}, {'Склад': 5, 'Цена': 221, 'Валюта': '$', 'Тип': 'Эскимо'}]\n"
     ]
    }
   ],
   "source": [
    "dict = {'Мороженное':[{'Тип':'Пломбир', 'Цена':256, 'Валюта':'руб.', 'Склад':10},\n",
    "                      {'Тип':'Эскимо', 'Цена':221, 'Склад':5, 'Валюта':'$'}]}\n",
    "print(dict['Мороженное']) #обращение по ключу Словаря\n",
    "#При обращении по этому ключу мы попадаем в список, внутри которого 2 списка, внутри которых Словари :)))\n",
    "#Теперь можно обратиться по индексу, чтобы получить информацию из первого[0] или второго списка[1]"
   ]
  },
  {
   "cell_type": "markdown",
   "metadata": {},
   "source": [
    "*поочереди запустите код ниже*"
   ]
  },
  {
   "cell_type": "code",
   "execution_count": 41,
   "metadata": {
    "collapsed": false
   },
   "outputs": [
    {
     "name": "stdout",
     "output_type": "stream",
     "text": [
      "Информация о пломбире {'Склад': 10, 'Цена': 256, 'Валюта': 'руб.', 'Тип': 'Пломбир'}\n",
      "Информация об эскимо {'Склад': 5, 'Цена': 221, 'Валюта': '$', 'Тип': 'Эскимо'}\n"
     ]
    }
   ],
   "source": [
    "print('Информация о пломбире', dict['Мороженное'][0])\n",
    "print('Информация об эскимо', dict['Мороженное'][1])"
   ]
  },
  {
   "cell_type": "code",
   "execution_count": 49,
   "metadata": {
    "collapsed": false
   },
   "outputs": [
    {
     "data": {
      "text/plain": [
       "int"
      ]
     },
     "execution_count": 49,
     "metadata": {},
     "output_type": "execute_result"
    }
   ],
   "source": []
  },
  {
   "cell_type": "code",
   "execution_count": 43,
   "metadata": {
    "collapsed": false
   },
   "outputs": [
    {
     "name": "stdout",
     "output_type": "stream",
     "text": [
      "Тип мороженного: Пломбир\n",
      "Тип мороженного: Эскимо\n"
     ]
    }
   ],
   "source": [
    "print('Тип мороженного:', dict['Мороженное'][0]['Тип'])\n",
    "print('Тип мороженного:', dict['Мороженное'][1]['Тип'])"
   ]
  },
  {
   "cell_type": "code",
   "execution_count": 18,
   "metadata": {
    "collapsed": false
   },
   "outputs": [
    {
     "name": "stdout",
     "output_type": "stream",
     "text": [
      "Цена: 256\n",
      "Цена: 221\n"
     ]
    }
   ],
   "source": [
    "print('Цена:', dict['Мороженное'][0]['Цена'])\n",
    "print('Цена:', dict['Мороженное'][1]['Цена'])"
   ]
  },
  {
   "cell_type": "code",
   "execution_count": 44,
   "metadata": {
    "collapsed": false
   },
   "outputs": [
    {
     "name": "stdout",
     "output_type": "stream",
     "text": [
      "Валюта: руб.\n",
      "Валюта: $\n"
     ]
    }
   ],
   "source": [
    "print('Валюта:', dict['Мороженное'][0]['Валюта'])\n",
    "print('Валюта:', dict['Мороженное'][1]['Валюта'])"
   ]
  },
  {
   "cell_type": "markdown",
   "metadata": {},
   "source": [
    "Давайте теперь представим, что у нас на складе много всяких типов мороженного с разными ценами и с разным количеством на складе. Но мы знаем, что у нас 2 типа мороженных.\n",
    "\n",
    "\n",
    "Для того, чтобы нам не пришлось писать столько принтов мы используем уже знакомый цикл for, которы будет проходить по списку значений, которые генерирует функция **range**. \n",
    "Информация для изучения - http://informatics.mccme.ru/mod/book/view.php?id=2534&chapterid=360\n",
    "\n",
    "**запустите код ниже**"
   ]
  },
  {
   "cell_type": "code",
   "execution_count": 50,
   "metadata": {
    "collapsed": false
   },
   "outputs": [
    {
     "name": "stdout",
     "output_type": "stream",
     "text": [
      "0\n",
      "1\n",
      "2\n",
      "3\n",
      "4\n",
      "5\n",
      "6\n",
      "7\n",
      "8\n",
      "9\n"
     ]
    }
   ],
   "source": [
    "for i in range(10): #попробуйте заменить значения в скобках на (5,10) и на (5,15,2)\n",
    "    print(i)"
   ]
  },
  {
   "cell_type": "markdown",
   "metadata": {},
   "source": [
    "Переменные **type_morojenka**,**price** и другие находятся в теле цикла, потому что нам каждый раз нужно присвоить им новые значения\n",
    "\n",
    "**запустите код ниже**"
   ]
  },
  {
   "cell_type": "code",
   "execution_count": 46,
   "metadata": {
    "collapsed": false
   },
   "outputs": [
    {
     "name": "stdout",
     "output_type": "stream",
     "text": [
      "Пломбир \n",
      "Стоимость: 256 руб. Количество на складе 10\n",
      "Эскимо \n",
      "Стоимость: 221 $ Количество на складе 5\n",
      "Стоимость остатков Эскимо на складе:325 руб.\n"
     ]
    }
   ],
   "source": [
    "dict = {'Мороженное':[{'Тип':'Пломбир', 'Цена':256, 'Валюта':'руб.', 'Склад':10},\n",
    "                      {'Тип':'Эскимо', 'Цена':221, 'Склад':5, 'Валюта':'$'}]}\n",
    "sklad_morojenki = dict['Мороженное']\n",
    "\n",
    "for i in range(2): #вместо 2 мы могли подставить значение len(dict['Мороженное'])\n",
    "                   #считает сколько элементов в списке или чему равна его длина\n",
    "    type_morojenka = dict['Мороженное'][i]['Тип']\n",
    "    price = dict['Мороженное'][i]['Цена']\n",
    "    cy = dict['Мороженное'][i]['Валюта']\n",
    "    value = dict['Мороженное'][i]['Склад']\n",
    "    print(type_morojenka,'\\nСтоимость:',price, cy,'Количество на складе',value)\n",
    "    if type_morojenka == 'Эскимо':\n",
    "        print('Стоимость остатков Эскимо на складе:' + str(value*65) +' руб.')\n",
    "    "
   ]
  },
  {
   "cell_type": "markdown",
   "metadata": {},
   "source": [
    "### Возвращаемся к задаче про сбор информации о постах в паблике ВКонтакте\n",
    "Вернёмся к нашим баранам с получением информации о постах в группе. Напомню, что нам нужно получить:\n",
    "* количество лайков\n",
    "* количество репостов \n",
    "* количество комментариев \n",
    "* дату публикацией этих постов\n",
    "* желательно оформить всё в видео удобной таблицы, либо так, чтобы это можно было скопировать в эксель\n",
    "\n",
    "Давайте достать дату и время для 2х наших постов, которые мы получили выше. Ниже мы используем тот же самый метод что и в задаче с мороженным"
   ]
  },
  {
   "cell_type": "code",
   "execution_count": 52,
   "metadata": {
    "collapsed": false
   },
   "outputs": [
    {
     "name": "stdout",
     "output_type": "stream",
     "text": [
      "1461513960 1461511753\n"
     ]
    }
   ],
   "source": [
    "import requests\n",
    "r = requests.get('https://api.vk.com/method/wall.get',params={'owner_id':-38369814,'count':2})\n",
    "response = r.json()\n",
    "post_date1 = response['response'][1]['date'] #выведит первую запись на стене или закреплённый пост\n",
    "post_date = response['response'][2]['date'] #выведит на экран вторую запись на стене\n",
    "print(post_date, post_date1)"
   ]
  },
  {
   "cell_type": "markdown",
   "metadata": {
    "collapsed": true
   },
   "source": [
    "Почему дата выглядит так мы рассмотрим позже. Сейчас нас это мало заботит.\n",
    "\n",
    "Как и в задаче с мороженным мы предполагаем, что у нас будет сотри и тысячи публикаций, для которых нужно будет получать информацию. Следовательно, мы не можем для каждой даты создавать переменную таким образом\n",
    "```python\n",
    "post_date1 = response['response'][1]['date'] #выведит первую запись на стене или закреплённый пост\n",
    "post_date = response['response'][2]['date'] #выведит на экран вторую запись на стене\n",
    "```\n",
    "и значит, будем использовать цикл **for**\n",
    "\n",
    "**запустите код ниже**"
   ]
  },
  {
   "cell_type": "code",
   "execution_count": 22,
   "metadata": {
    "collapsed": false
   },
   "outputs": [
    {
     "name": "stdout",
     "output_type": "stream",
     "text": [
      "Количество постов на стене =  2353\n",
      "1460890265 4\n",
      "1461426061 4\n"
     ]
    }
   ],
   "source": [
    "import requests\n",
    "r = requests.get('https://api.vk.com/method/wall.get',params={'owner_id':-38369814,'count':2})\n",
    "response = r.json()\n",
    "print('Количество постов на стене = ',response['response'][0]) #выводит 1 раз\n",
    "#Создаём цикл с переменными для каждого поста\n",
    "for i in range(1,3):\n",
    "    post_date = response['response'][i]['date'] #дата и время публикации в Unix-формате\n",
    "    comments_count = response['response'][i]['comments']['count'] #количество комментариев\n",
    "    post_id = response['response'][i]['id'] #id поста в сообществе\n",
    "    group_id = response['response'][i]['to_id'] #id сообщества . В версиях API ниже 5.7 вместо поля owner_id приходит to_id.\n",
    "    likes_count = response['response'][i]['likes']['count'] #количество лайков\n",
    "    repost_count = response['response'][i]['reposts']['count']  #количество репостов\n",
    "    signer_id = response['response'][i]['signer_id'] #если есть подпись автора    \n",
    "    print(post_date,comments_count)\n"
   ]
  },
  {
   "cell_type": "markdown",
   "metadata": {},
   "source": [
    "Так, мы смогли вывести на экран количество постов, дату публикации и количество комментариев функцией\n",
    "```python\n",
    "print(post_date,comments_count)\n",
    "```\n",
    "Теперь нам нужно её доработатать, чтобы информация была понятна для нас с вами. \"Странную\" дату пока не трогаем. Работает с тем что есть.\n",
    "\n",
    "В итоге код, чтобы получить информацию о 2х последних постах\n",
    "\n",
    "**запустите код ниже**"
   ]
  },
  {
   "cell_type": "code",
   "execution_count": 58,
   "metadata": {
    "collapsed": false
   },
   "outputs": [
    {
     "name": "stdout",
     "output_type": "stream",
     "text": [
      "Количество постов на стене =  2356\n",
      "Дата публикации , Ссылка , Количество лайков , Количество репостов , Количество комментариев\n",
      "1461511753 , https://vk.com/wall-38369814_19492 , 19 , 7 , 0\n",
      "1461513960 , https://vk.com/wall-38369814_19495 , 7 , 2 , 0\n"
     ]
    }
   ],
   "source": [
    "import requests\n",
    "r = requests.get('https://api.vk.com/method/wall.get',params={'owner_id':-38369814,'count':2})\n",
    "response = r.json()\n",
    "print('Количество постов на стене = ',response['response'][0]) #выводит 1 раз\n",
    "#Создаём цикл с переменными для каждого поста\n",
    "\n",
    "print('Дата публикации',',','Ссылка',',','Количество лайков',',','Количество репостов',',','Количество комментариев')\n",
    "for i in range(1,3):\n",
    "    post_date = response['response'][i]['date'] #дата и время публикации в Unix-формате\n",
    "    comments_count = response['response'][i]['comments']['count'] #количество комментариев\n",
    "    post_id = response['response'][i]['id'] #id поста в сообществе\n",
    "    group_id = response['response'][i]['to_id'] #id сообщества . В версиях API ниже 5.7 вместо поля owner_id приходит to_id.\n",
    "    likes_count = response['response'][i]['likes']['count'] #количество лайков\n",
    "    repost_count = response['response'][i]['reposts']['count']  #количество репостов\n",
    "    print(post_date,',','https://vk.com/wall'+str(group_id)+'_'+str(post_id),',',\n",
    "          likes_count,',',repost_count,',',comments_count)"
   ]
  },
  {
   "cell_type": "markdown",
   "metadata": {
    "collapsed": true
   },
   "source": [
    "Теперь, чтобы получить 100 постов вам нужно заменить параметр 'counte':100\n",
    "```python\n",
    "r = requests.get('https://api.vk.com/method/wall.get',params={'owner_id':-38369814,'count':100})\n",
    "```\n",
    "\n",
    "**запустите код ниже**"
   ]
  },
  {
   "cell_type": "code",
   "execution_count": null,
   "metadata": {
    "collapsed": true
   },
   "outputs": [],
   "source": [
    "import requests\n",
    "r = requests.get('https://api.vk.com/method/wall.get',params={'owner_id':-38369814,'count':100})\n",
    "response = r.json()\n",
    "print('Количество постов на стене = ',response['response'][0]) #выводит 1 раз\n",
    "#Создаём цикл с переменными для каждого поста\n",
    "\n",
    "print('Дата публикации',',','Ссылка',',','Количество лайков',',','Количество репостов',',','Количество комментариев')\n",
    "for i in range(1,3):\n",
    "    post_date = response['response'][i]['date'] #дата и время публикации в Unix-формате\n",
    "    comments_count = response['response'][i]['comments']['count'] #количество комментариев\n",
    "    post_id = response['response'][i]['id'] #id поста в сообществе\n",
    "    group_id = response['response'][i]['to_id'] #id сообщества . В версиях API ниже 5.7 вместо поля owner_id приходит to_id.\n",
    "    likes_count = response['response'][i]['likes']['count'] #количество лайков\n",
    "    repost_count = response['response'][i]['reposts']['count']  #количество репостов\n",
    "    print(post_date,',','https://vk.com/wall'+str(group_id)+'_'+str(post_id),',',\n",
    "          likes_count,',',repost_count,',',comments_count)"
   ]
  },
  {
   "cell_type": "markdown",
   "metadata": {},
   "source": [
    "# Урок 5: анализ всех постов в группе ВКонтакте"
   ]
  },
  {
   "cell_type": "code",
   "execution_count": 44,
   "metadata": {
    "collapsed": false
   },
   "outputs": [
    {
     "data": {
      "text/html": [
       "\n",
       "        <iframe\n",
       "            width=\"400\"\n",
       "            height=\"300\"\n",
       "            src=\"https://www.youtube.com/embed/NMatAWwa7Ac\"\n",
       "            frameborder=\"0\"\n",
       "            allowfullscreen\n",
       "        ></iframe>\n",
       "        "
      ],
      "text/plain": [
       "<IPython.lib.display.YouTubeVideo at 0xd3753c49e8>"
      ]
     },
     "execution_count": 44,
     "metadata": {},
     "output_type": "execute_result"
    }
   ],
   "source": [
    "from IPython.display import YouTubeVideo\n",
    "YouTubeVideo(\"NMatAWwa7Ac\")"
   ]
  },
  {
   "cell_type": "markdown",
   "metadata": {},
   "source": [
    "> из этого урока вы узнаете как можно получить все посты из группы или профиля ВКонтакте\n",
    "\n",
    "В уроке №4 мы разобрали как обрабатывать данные, чтобы в дальнейшем с ними работать. \n",
    "\n",
    "В 4 уроке у нас получилось получить данные только о 100 постах за раз, так как метод **wall.get** (https://vk.com/dev/wall.get) за один раз отдать больше не может. НО!\n",
    "\n",
    "В методе есть параметр **offset**, который означает смещение.Это означает, что мы можем получать данные от первого до последнего поста пачками по 100 штук.\n",
    "\n",
    "Упрощённая версия без обработки данных\n",
    "\n",
    "**запустите код ниже**"
   ]
  },
  {
   "cell_type": "code",
   "execution_count": null,
   "metadata": {
    "collapsed": false
   },
   "outputs": [],
   "source": [
    "import requests\n",
    "r = requests.get('https://api.vk.com/method/wall.get',params={'owner_id':-38369814,'count':100, 'offset':0}) \n",
    "                                                        #без смещения - получим 3 последних поста - 1,2,3\n",
    "print(r.json()) #выводим на экран первые ответ\n",
    "r = requests.get('https://api.vk.com/method/wall.get',params={'owner_id':-38369814,'count':100, 'offset':100})\n",
    "                                                        #смещаемся от последнего поста на 3 - получаем 4,5,6 пост\n",
    "print(r.json()) #выводим на экран второй ответ"
   ]
  },
  {
   "cell_type": "markdown",
   "metadata": {},
   "source": [
    "Давайте теперь подумаем и попытаемся нарисовать алгоритм, который нам нужно описать, чтобы получить столько постов, сколько будет на стене\n",
    "\n",
    "Ограничения:\n",
    "* за один запрос мы можем получить до 100 постов\n",
    "* максимальное смещение 100\n",
    "* запросы к ВК отправлять не чаще 3 запросов в секунду\n",
    "\n",
    ">прежде чем начинать писать, подумайте в каком порядке нужно запускать определенные действия. Попробуйте нарисовать. Проще картинки править, чем непонятный код, который вы не понимаете.\n",
    "\n",
    "Алгоритм:\n",
    "0. Смещение больше или равно количеству публикаций? Если нет, то п.1 \\ Если да, то все посты обработаны\n",
    "1. Отправляем запрос к ВК для получения последних 100 записей\n",
    "2. Обрабатываем полученные данные (см. урок 4) и выводим на экран\n",
    "3. Увеличиваем смещение на 100 и возвращаемся к 1 пункту\n",
    "\n",
    "Картинка алгоритма\n",
    "![alt](https://api.monosnap.com/rpc/file/download?id=Q3YXzb6SK9lu1XoPp6TUiWGbQWHGE7)\n",
    "\n",
    "**Запустите код ниже**\n",
    "он позволяет получить информацию о количестве лайков, репостов, комментариев в любом сообществе или профиле\n",
    "\n",
    "**Не запускайте этот код для профилей** и сообществ, в которых много постов. Для сообществ и профилей с большим количеством постов лучше сразу писать в файл. Код ниже для демострации логики процесса"
   ]
  },
  {
   "cell_type": "code",
   "execution_count": null,
   "metadata": {
    "collapsed": false
   },
   "outputs": [],
   "source": [
    "import requests\n",
    "\n",
    "group_id = -38369814 #ID сообществ нужно писать с минусом, профиля - без\n",
    "count = 100 #количество постов, получаемых за 1 запрос\n",
    "offset = 0 #начальное смещение\n",
    "\n",
    "#Узнаем сколько постов в сообществе\n",
    "\n",
    "r = requests.get('https://api.vk.com/method/wall.get',params={'owner_id':group_id,'count':0})\n",
    "response = r.json()\n",
    "post_count = response['response'][0] #количество постов в группе или профиле\n",
    "print('Количество постов в сообществе:',post_count)\n",
    "\n",
    "print('Дата публикации',',','Ссылка',',','Количество лайков',',','Количество репостов',',','Количество комментариев')\n",
    "\n",
    "while offset < post_count:\n",
    "    r = requests.get('https://api.vk.com/method/wall.get',params={'owner_id':group_id,'count':count, 'offset':offset})\n",
    "    response = r.json()\n",
    "\n",
    "    #запускаем цикл для обработки ответа\n",
    "    for i in range(1,101):\n",
    "        post_date = response['response'][i]['date'] #дата и время публикации в Unix-формате\n",
    "        comments_count = response['response'][i]['comments']['count'] #количество комментариев\n",
    "        post_id = response['response'][i]['id'] #id поста в сообществе\n",
    "        group_id = response['response'][i]['to_id'] #id сообщества . В версиях API ниже 5.7 вместо поля owner_id приходит to_id.\n",
    "        likes_count = response['response'][i]['likes']['count'] #количество лайков\n",
    "        repost_count = response['response'][i]['reposts']['count']  #количество репостов\n",
    "        print(post_date,',','https://vk.com/wall'+str(group_id)+'_'+str(post_id),',', \n",
    "              likes_count,',',repost_count,',',comments_count)\n",
    "    offset = offset + 100\n",
    "\n"
   ]
  },
  {
   "cell_type": "markdown",
   "metadata": {
    "collapsed": true
   },
   "source": [
    "> **Задача для самостоятельного решения**:\n",
    "Разобраться с преобразованием даты из Unix-формата в тот, который нужен вам.\n",
    "\n",
    "Всем хороших майских выходных!!!"
   ]
  },
  {
   "cell_type": "markdown",
   "metadata": {
    "collapsed": true
   },
   "source": [
    "## Продолжение 5 урока\n",
    ">7 мая 2016 г. Продолжение урока 5\n",
    "\n",
    "В 5 уроке мы получили \"странную\" дату в unix-формате. \n",
    "\n",
    "### Теория\n",
    "* unix-время: https://ru.wikipedia.org/wiki/UNIX-%D0%B2%D1%80%D0%B5%D0%BC%D1%8F\n",
    "* онлайн-конвертер: http://www.cy-pr.com/tools/time/\n",
    "\n",
    "Для её преобразования нужно использовать модуль **datetime** - http://pythonworld.ru/moduli/modul-datetime.html и **time** - http://pythonworld.ru/moduli/modul-time.html\n",
    "\n",
    "Так в примере выше мы получаем дату и время поста от ВКонтакте\n",
    "\n",
    "```python\n",
    "post_date = response['response'][i]['date'] #дата и время публикации в Unix-формате\n",
    "```\n",
    "\n",
    "Он возвращает нам нечто вроде 1459255942.\n",
    "\n",
    "> Задача: преобразовать 1459255942 в формам времени - Год-Месяц Час-Минута-Секунда\n",
    "\n",
    "**запустите код ниже**\n"
   ]
  },
  {
   "cell_type": "code",
   "execution_count": 6,
   "metadata": {
    "collapsed": false
   },
   "outputs": [
    {
     "name": "stdout",
     "output_type": "stream",
     "text": [
      "Дата публикации: 2016-03-29 15:52:22\n"
     ]
    }
   ],
   "source": [
    "import datetime #импортируем пакеты\n",
    "import time #импортируем пакеты\n",
    "\n",
    "unix_time = 1459255942 #время в unix-формате\n",
    "\n",
    "normal_time =  datetime.datetime.fromtimestamp( #функция преобразования\n",
    "                int(1459255942)\n",
    "                ).strftime('%Y-%m-%d %H:%M:%S') #фортма преобразования Год-Месяц Час-Минута-Секунда\n",
    "\n",
    "print('Дата публикации:',normal_time)"
   ]
  },
  {
   "cell_type": "markdown",
   "metadata": {},
   "source": [
    "Теперь код для получения списка постов с количество лайков\\репостов\\комментариев и **нормальной** датой будет выглядеть так:\n",
    "\n",
    "**запустите код ниже**"
   ]
  },
  {
   "cell_type": "code",
   "execution_count": null,
   "metadata": {
    "collapsed": false
   },
   "outputs": [],
   "source": [
    "import requests\n",
    "import datetime #импортируем пакеты\n",
    "import time #импортируем пакеты\n",
    "\n",
    "group_id = -46922041 #ID сообществ нужно писать с минусом, профиля - без\n",
    "count = 100 #количество постов, получаемых за 1 запрос\n",
    "offset = 0 #начальное смещение\n",
    "\n",
    "#Узнаем сколько постов в сообществе\n",
    "\n",
    "r = requests.get('https://api.vk.com/method/wall.get',params={'owner_id':group_id,\n",
    "                                                              'count':0})\n",
    "response = r.json()\n",
    "post_count = response['response'][0] #количество постов в группе или профиле\n",
    "print('Количество постов в сообществе:',post_count)\n",
    "\n",
    "print('Дата публикации',',','Ссылка',',','Количество лайков',',','Количество репостов',',','Количество комментариев')\n",
    "\n",
    "while offset < post_count:\n",
    "    r = requests.get('https://api.vk.com/method/wall.get',params={'owner_id':group_id,'count':count, 'offset':offset})\n",
    "    response = r.json()\n",
    "\n",
    "    #запускаем цикл для обработки ответа\n",
    "    for i in range(1,101):\n",
    "        post_date =  datetime.datetime.fromtimestamp( #функция преобразования\n",
    "                int(response['response'][i]['date'])\n",
    "                ).strftime('%Y-%m-%d %H:%M:%S') #фортма преобразования Год-Месяц Час-Минута-Секунда   \n",
    "        comments_count = response['response'][i]['comments']['count'] #количество комментариев\n",
    "        post_id = response['response'][i]['id'] #id поста в сообществе\n",
    "        group_id = response['response'][i]['to_id'] #id сообщества . В версиях API ниже 5.7 вместо поля owner_id приходит to_id.\n",
    "        likes_count = response['response'][i]['likes']['count'] #количество лайков\n",
    "        repost_count = response['response'][i]['reposts']['count']  #количество репостов\n",
    "        print(post_date,',','https://vk.com/wall'+str(group_id)+'_'+str(post_id),',', \n",
    "              likes_count,',',repost_count,',',comments_count)\n",
    "    offset = offset + 100"
   ]
  },
  {
   "cell_type": "markdown",
   "metadata": {},
   "source": [
    "Давайте подведём итог 4 и 5 уроков.\n",
    "\n",
    "**Чему мы научились:**\n",
    "1. обрабатывать ответ от ВКонтакте так, как нужно нам!\n",
    "2. запускать цикл в цикле для получения множества объектов (смещение по **offset**, а затем:обработка ответа)\n",
    "3. преобразовывать дату из unix-формата в тот, который нужен нам\n",
    "\n",
    "Таким образом мы написали универсальный скрипт для анализа любого открытого профиля и сообщества, из которых мы можем получить список всех публикаций с данными о каждой публикации:\n",
    "* дата публикации\n",
    "* количество \"Мне нравится\"\n",
    "* количество \"Рассказать друзьям\"\n",
    "* Количество комментариев\n",
    "\n",
    "### Домашнее задание к 4 и 5 уроку\n",
    "> Получить **дату публикации** и **автора** из конкретного обсуждения. Возьмём для примера https://vk.com/topic-38369814_28008826\n",
    "\n",
    "Ответы и вопросы по домашке публикуйте здесь - https://vk.com/topic-38369814_33529150 "
   ]
  },
  {
   "cell_type": "markdown",
   "metadata": {},
   "source": [
    "# Урок 6: Как сделать автолайкер ВКонтакте"
   ]
  },
  {
   "cell_type": "code",
   "execution_count": null,
   "metadata": {
    "collapsed": true
   },
   "outputs": [],
   "source": []
  }
 ],
 "metadata": {
  "kernelspec": {
   "display_name": "Python 3",
   "language": "python",
   "name": "python3"
  },
  "language_info": {
   "codemirror_mode": {
    "name": "ipython",
    "version": 3
   },
   "file_extension": ".py",
   "mimetype": "text/x-python",
   "name": "python",
   "nbconvert_exporter": "python",
   "pygments_lexer": "ipython3",
   "version": "3.5.1"
  }
 },
 "nbformat": 4,
 "nbformat_minor": 0
}
