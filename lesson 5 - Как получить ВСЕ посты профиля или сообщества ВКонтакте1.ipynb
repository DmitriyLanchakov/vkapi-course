{
 "cells": [
  {
   "cell_type": "markdown",
   "metadata": {},
   "source": [
    "**Автор:** Сергей Шмаков\n",
    "\n",
    "**Обновление этого документа** и не только публикуется на канале в Телеграм - https://telegram.me/smm_python\n",
    "\n",
    "Другие мои площадки:\n",
    "* ВКонтакте - https://vk.com/smmblog\n",
    "* Youtube - https://youtube.com/smmblog\n",
    "* Блог - http://freesmm.ru"
   ]
  },
  {
   "cell_type": "markdown",
   "metadata": {},
   "source": [
    "# Урок 5: анализ всех постов в группе ВКонтакте"
   ]
  },
  {
   "cell_type": "markdown",
   "metadata": {},
   "source": [
    "**запустите код ниже**"
   ]
  },
  {
   "cell_type": "code",
   "execution_count": 1,
   "metadata": {
    "collapsed": false
   },
   "outputs": [
    {
     "data": {
      "text/html": [
       "\n",
       "        <iframe\n",
       "            width=\"400\"\n",
       "            height=\"300\"\n",
       "            src=\"https://www.youtube.com/embed/NMatAWwa7Ac\"\n",
       "            frameborder=\"0\"\n",
       "            allowfullscreen\n",
       "        ></iframe>\n",
       "        "
      ],
      "text/plain": [
       "<IPython.lib.display.YouTubeVideo at 0x8b1bb66fd0>"
      ]
     },
     "execution_count": 1,
     "metadata": {},
     "output_type": "execute_result"
    }
   ],
   "source": [
    "from IPython.display import YouTubeVideo\n",
    "YouTubeVideo(\"NMatAWwa7Ac\")"
   ]
  },
  {
   "cell_type": "markdown",
   "metadata": {},
   "source": [
    "> из этого урока вы узнаете как можно получить все посты из группы или профиля ВКонтакте\n",
    "\n",
    "В уроке №4 мы разобрали как обрабатывать данные, чтобы в дальнейшем с ними работать. \n",
    "\n",
    "В 4 уроке у нас получилось получить данные только о 100 постах за раз, так как метод **wall.get** (https://vk.com/dev/wall.get) за один раз отдать больше не может. НО!\n",
    "\n",
    "В методе есть параметр **offset**, который означает смещение.Это означает, что мы можем получать данные от первого до последнего поста пачками по 100 штук.\n",
    "\n",
    "Упрощённая версия без обработки данных\n",
    "\n",
    "**запустите код ниже**"
   ]
  },
  {
   "cell_type": "code",
   "execution_count": null,
   "metadata": {
    "collapsed": false
   },
   "outputs": [],
   "source": [
    "import requests\n",
    "r = requests.get('https://api.vk.com/method/wall.get',params={'owner_id':-38369814,'count':3, 'offset':0}) \n",
    "                                                        #без смещения - получим 3 последних поста - 1,2,3\n",
    "print(r.json()) #выводим на экран первые ответ\n",
    "r = requests.get('https://api.vk.com/method/wall.get',params={'owner_id':-38369814,'count':3, 'offset':3})\n",
    "                                                        #смещаемся от последнего поста на 3 - получаем 4,5,6 пост\n",
    "print(r.json()) #выводим на экран второй ответ"
   ]
  },
  {
   "cell_type": "markdown",
   "metadata": {},
   "source": [
    "Давайте теперь подумаем и попытаемся нарисовать алгоритм, который нам нужно описать, чтобы получить столько постов, сколько будет на стене\n",
    "\n",
    "Ограничения:\n",
    "* за один запрос мы можем получить до 100 постов\n",
    "* максимальное смещение 100\n",
    "* запросы к ВК отправлять не чаще 3 запросов в секунду\n",
    "\n",
    ">прежде чем начинать писать, подумайте в каком порядке нужно запускать определенные действия. Попробуйте нарисовать. Проще картинки править, чем непонятный код, который вы не понимаете.\n",
    "\n",
    "Алгоритм:\n",
    "0. Смещение больше или равно количеству публикаций? Если нет, то п.1 \\ Если да, то все посты обработаны\n",
    "1. Отправляем запрос к ВК для получения последних 100 записей\n",
    "2. Обрабатываем полученные данные (см. урок 4) и выводим на экран\n",
    "3. Увеличиваем смещение на 100 и возвращаемся к 1 пункту\n",
    "\n",
    "Картинка алгоритма\n",
    "![alt](https://api.monosnap.com/rpc/file/download?id=Q3YXzb6SK9lu1XoPp6TUiWGbQWHGE7)\n",
    "\n",
    "**Запустите код ниже**\n",
    "он позволяет получить информацию о количестве лайков, репостов, комментариев в любом сообществе или профиле\n",
    "\n",
    "**Не запускайте этот код для профилей** и сообществ, в которых много постов. Для сообществ и профилей с большим количеством постов лучше сразу писать в файл. Код ниже для демострации логики процесса"
   ]
  },
  {
   "cell_type": "code",
   "execution_count": null,
   "metadata": {
    "collapsed": false
   },
   "outputs": [],
   "source": [
    "import requests\n",
    "import time\n",
    "\n",
    "group_id = -38369814 #ID сообществ нужно писать с минусом, профиля - без\n",
    "count = 100 #количество постов, получаемых за 1 запрос\n",
    "offset = 0 #начальное смещение\n",
    "\n",
    "#Узнаем сколько постов в сообществе\n",
    "\n",
    "r = requests.get('https://api.vk.com/method/wall.get',params={'owner_id':group_id,'count':0})\n",
    "response = r.json()\n",
    "post_count = response['response'][0] #количество постов в группе или профиле\n",
    "print('Количество постов в сообществе:',post_count)\n",
    "\n",
    "print('Дата публикации',',','Ссылка',',','Количество лайков',',','Количество репостов',',','Количество комментариев')\n",
    "\n",
    "while offset < post_count:\n",
    "    r = requests.get('https://api.vk.com/method/wall.get',params={'owner_id':group_id,'count':count, 'offset':offset})\n",
    "    response = r.json()\n",
    "\n",
    "    #запускаем цикл для обработки ответа\n",
    "    for i in range(1,101):\n",
    "        post_date = response['response'][i]['date'] #дата и время публикации в Unix-формате\n",
    "        comments_count = response['response'][i]['comments']['count'] #количество комментариев\n",
    "        post_id = response['response'][i]['id'] #id поста в сообществе\n",
    "        group_id = response['response'][i]['to_id'] #id сообщества . В версиях API ниже 5.7 вместо поля owner_id приходит to_id.\n",
    "        likes_count = response['response'][i]['likes']['count'] #количество лайков\n",
    "        repost_count = response['response'][i]['reposts']['count']  #количество репостов\n",
    "        print(post_date,',','https://vk.com/wall'+str(group_id)+'_'+str(post_id),',', \n",
    "              likes_count,',',repost_count,',',comments_count)\n",
    "    offset = offset + 100\n",
    "    time.sleep(.33)"
   ]
  },
  {
   "cell_type": "markdown",
   "metadata": {},
   "source": [
    "## Продолжение 5 урока\n",
    ">7 мая 2016 г. Продолжение урока 5\n",
    "\n",
    "В 5 уроке мы получили \"странную\" дату в unix-формате. \n",
    "\n",
    "### Теория\n",
    "* unix-время: https://ru.wikipedia.org/wiki/UNIX-%D0%B2%D1%80%D0%B5%D0%BC%D1%8F\n",
    "* онлайн-конвертер: http://www.cy-pr.com/tools/time/\n",
    "\n",
    "Для её преобразования нужно использовать модуль **datetime** - http://pythonworld.ru/moduli/modul-datetime.html и **time** - http://pythonworld.ru/moduli/modul-time.html\n",
    "\n",
    "Так в примере выше мы получаем дату и время поста от ВКонтакте\n",
    "\n",
    "```python\n",
    "post_date = response['response'][i]['date'] #дата и время публикации в Unix-формате\n",
    "```\n",
    "\n",
    "Он возвращает нам нечто вроде 1459255942.\n",
    "\n",
    "> Задача: преобразовать 1459255942 в формам времени - Год-Месяц Час-Минута-Секунда\n",
    "\n",
    "**запустите код ниже**"
   ]
  },
  {
   "cell_type": "code",
   "execution_count": 6,
   "metadata": {
    "collapsed": false
   },
   "outputs": [
    {
     "name": "stdout",
     "output_type": "stream",
     "text": [
      "Дата публикации: 2016-03-29 15:52:22\n"
     ]
    }
   ],
   "source": [
    "import datetime #импортируем пакеты\n",
    "import time #импортируем пакеты\n",
    "\n",
    "unix_time = 1459255942 #время в unix-формате\n",
    "\n",
    "normal_time =  datetime.datetime.fromtimestamp( #функция преобразования\n",
    "                int(1459255942)\n",
    "                ).strftime('%Y-%m-%d %H:%M:%S') #фортма преобразования Год-Месяц Час-Минута-Секунда\n",
    "\n",
    "print('Дата публикации:',normal_time)"
   ]
  },
  {
   "cell_type": "markdown",
   "metadata": {},
   "source": [
    "Теперь код для получения списка постов с количество лайков\\репостов\\комментариев и **нормальной** датой будет выглядеть так:\n",
    "\n",
    "**запустите код ниже**"
   ]
  },
  {
   "cell_type": "code",
   "execution_count": null,
   "metadata": {
    "collapsed": false
   },
   "outputs": [],
   "source": [
    "import requests\n",
    "import datetime #импортируем пакеты\n",
    "import time #импортируем пакеты\n",
    "\n",
    "group_id = -38369814 #ID сообществ нужно писать с минусом, профиля - без\n",
    "count = 100 #количество постов, получаемых за 1 запрос\n",
    "offset = 0 #начальное смещение\n",
    "\n",
    "#Узнаем сколько постов в сообществе\n",
    "\n",
    "r = requests.get('https://api.vk.com/method/wall.get',params={'owner_id':group_id,\n",
    "                                                              'count':0})\n",
    "response = r.json()\n",
    "post_count = response['response'][0] #количество постов в группе или профиле\n",
    "print('Количество постов в сообществе:',post_count)\n",
    "\n",
    "print('Дата публикации',',','Ссылка',',','Количество лайков',',','Количество репостов',',','Количество комментариев')\n",
    "\n",
    "while offset < post_count:\n",
    "    r = requests.get('https://api.vk.com/method/wall.get',params={'owner_id':group_id,'count':count, 'offset':offset})\n",
    "    response = r.json()\n",
    "\n",
    "    #запускаем цикл для обработки ответа\n",
    "    for i in range(1,101):\n",
    "        post_date =  datetime.datetime.fromtimestamp( #функция преобразования\n",
    "                int(response['response'][i]['date'])\n",
    "                ).strftime('%Y-%m-%d %H:%M:%S') #фортма преобразования Год-Месяц Час-Минута-Секунда   \n",
    "        comments_count = response['response'][i]['comments']['count'] #количество комментариев\n",
    "        post_id = response['response'][i]['id'] #id поста в сообществе\n",
    "        group_id = response['response'][i]['to_id'] #id сообщества . В версиях API ниже 5.7 вместо поля owner_id приходит to_id.\n",
    "        likes_count = response['response'][i]['likes']['count'] #количество лайков\n",
    "        repost_count = response['response'][i]['reposts']['count']  #количество репостов\n",
    "        print(post_date,',','https://vk.com/wall'+str(group_id)+'_'+str(post_id),',', \n",
    "              likes_count,',',repost_count,',',comments_count)\n",
    "    offset = offset + 100\n",
    "    time.sleep(.33)"
   ]
  },
  {
   "cell_type": "markdown",
   "metadata": {},
   "source": [
    "## Итог 4 и 5 уроков\n",
    "\n",
    "**Чему мы научились:**\n",
    "1. обрабатывать ответ от ВКонтакте так, как нужно нам!\n",
    "2. запускать цикл в цикле для получения множества объектов (смещение по **offset**, а затем:обработка ответа)\n",
    "3. преобразовывать дату из unix-формата в тот, который нужен нам\n",
    "\n",
    "Таким образом мы написали универсальный скрипт для анализа любого открытого профиля и сообщества, из которых мы можем получить список всех публикаций с данными о каждой публикации:\n",
    "* дата публикации\n",
    "* количество \"Мне нравится\"\n",
    "* количество \"Рассказать друзьям\"\n",
    "* Количество комментариев\n",
    "\n",
    "### Домашнее задание к 4 и 5 уроку\n",
    "> Получить **дату публикации** и **автора** из конкретного обсуждения. Возьмём для примера https://vk.com/topic-38369814_28008826\n",
    "\n",
    "Ответы и вопросы по домашке публикуйте здесь - https://vk.com/topic-38369814_33529150 "
   ]
  },
  {
   "cell_type": "code",
   "execution_count": null,
   "metadata": {
    "collapsed": true
   },
   "outputs": [],
   "source": []
  }
 ],
 "metadata": {
  "kernelspec": {
   "display_name": "Python 3",
   "language": "python",
   "name": "python3"
  },
  "language_info": {
   "codemirror_mode": {
    "name": "ipython",
    "version": 3
   },
   "file_extension": ".py",
   "mimetype": "text/x-python",
   "name": "python",
   "nbconvert_exporter": "python",
   "pygments_lexer": "ipython3",
   "version": "3.5.1"
  }
 },
 "nbformat": 4,
 "nbformat_minor": 0
}
